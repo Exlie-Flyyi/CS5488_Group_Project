{
  "cells": [
    {
      "cell_type": "markdown",
      "metadata": {
        "id": "view-in-github",
        "colab_type": "text"
      },
      "source": [
        "<a href=\"https://colab.research.google.com/github/Exlie-Flyyi/CS5488_Group_Project/blob/main/5.3%20Model%20Building_SVM.ipynb\" target=\"_parent\"><img src=\"https://colab.research.google.com/assets/colab-badge.svg\" alt=\"Open In Colab\"/></a>"
      ]
    },
    {
      "cell_type": "code",
      "source": [
        "#!pip install -U -q PyDrive"
      ],
      "metadata": {
        "id": "hFlqOIUg5zyR"
      },
      "id": "hFlqOIUg5zyR",
      "execution_count": 1,
      "outputs": []
    },
    {
      "cell_type": "code",
      "source": [
        "#!pip install -U -q PyDrive"
      ],
      "metadata": {
        "id": "CYE07uD758Ga"
      },
      "id": "CYE07uD758Ga",
      "execution_count": 2,
      "outputs": []
    },
    {
      "cell_type": "code",
      "source": [
        "#!pip install pyspark"
      ],
      "metadata": {
        "id": "U25_59XdoeaK"
      },
      "id": "U25_59XdoeaK",
      "execution_count": null,
      "outputs": []
    },
    {
      "cell_type": "code",
      "source": [
        "from google.colab import drive\n",
        "drive.mount('/content/drive')"
      ],
      "metadata": {
        "colab": {
          "base_uri": "https://localhost:8080/"
        },
        "id": "h5H_WQ7ab5ZP",
        "outputId": "c3dad299-a73c-4e9b-adae-7f38e2753e8f"
      },
      "id": "h5H_WQ7ab5ZP",
      "execution_count": 3,
      "outputs": [
        {
          "output_type": "stream",
          "name": "stdout",
          "text": [
            "Drive already mounted at /content/drive; to attempt to forcibly remount, call drive.mount(\"/content/drive\", force_remount=True).\n"
          ]
        }
      ]
    },
    {
      "cell_type": "code",
      "source": [
        "%cd /content/drive/MyDrive/Github/"
      ],
      "metadata": {
        "colab": {
          "base_uri": "https://localhost:8080/"
        },
        "id": "14Uw5ZVEcAy3",
        "outputId": "36e33f05-17a7-4ad7-f2ba-436e3baa033d"
      },
      "id": "14Uw5ZVEcAy3",
      "execution_count": 4,
      "outputs": [
        {
          "output_type": "stream",
          "name": "stdout",
          "text": [
            "/content/drive/MyDrive/Github\n"
          ]
        }
      ]
    },
    {
      "cell_type": "code",
      "source": [
        "%cd \"CS5488_Group_Project\""
      ],
      "metadata": {
        "colab": {
          "base_uri": "https://localhost:8080/"
        },
        "id": "Uuj3xpnNcDdQ",
        "outputId": "7adf1f19-ece2-4ff1-fb11-279d1e7459c3"
      },
      "id": "Uuj3xpnNcDdQ",
      "execution_count": 5,
      "outputs": [
        {
          "output_type": "stream",
          "name": "stdout",
          "text": [
            "/content/drive/MyDrive/Github/CS5488_Group_Project\n"
          ]
        }
      ]
    },
    {
      "cell_type": "code",
      "source": [
        "#import sys\n",
        "#sys.path.append('/content/drive/My Drive')"
      ],
      "metadata": {
        "id": "j9A6590ayWzj"
      },
      "id": "j9A6590ayWzj",
      "execution_count": 6,
      "outputs": []
    },
    {
      "cell_type": "markdown",
      "source": [
        "# pyspark SVM"
      ],
      "metadata": {
        "id": "FLNhr8iAr77e"
      },
      "id": "FLNhr8iAr77e"
    },
    {
      "cell_type": "code",
      "execution_count": 7,
      "id": "vietnamese-china",
      "metadata": {
        "ExecuteTime": {
          "end_time": "2022-11-11T06:50:59.594698Z",
          "start_time": "2022-11-11T06:50:59.587671Z"
        },
        "id": "vietnamese-china"
      },
      "outputs": [],
      "source": [
        "import numpy as np\n",
        "import pandas as pd\n",
        "from sklearn.feature_extraction.text import TfidfVectorizer\n",
        "from sklearn.linear_model import LogisticRegression\n",
        "from sklearn.metrics import roc_auc_score\n",
        "from sklearn.model_selection import RepeatedKFold"
      ]
    },
    {
      "cell_type": "markdown",
      "source": [
        "## 1. Feature Engineering"
      ],
      "metadata": {
        "id": "XJTWtWyasZ2D"
      },
      "id": "XJTWtWyasZ2D"
    },
    {
      "cell_type": "markdown",
      "source": [
        "### 1.1 Read cleaned data file"
      ],
      "metadata": {
        "id": "UrYYN6UPstCO"
      },
      "id": "UrYYN6UPstCO"
    },
    {
      "cell_type": "code",
      "execution_count": 8,
      "id": "palestinian-tournament",
      "metadata": {
        "ExecuteTime": {
          "end_time": "2022-11-11T06:51:02.683895Z",
          "start_time": "2022-11-11T06:51:02.119927Z"
        },
        "id": "palestinian-tournament",
        "outputId": "f2c1150e-456f-48b7-ff61-46c1c034a47d",
        "colab": {
          "base_uri": "https://localhost:8080/",
          "height": 600
        }
      },
      "outputs": [
        {
          "output_type": "execute_result",
          "data": {
            "text/plain": [
              "   Unnamed: 0                                  c_title  \\\n",
              "0           0                         marketing intern   \n",
              "1           1  customer service cloud video production   \n",
              "2           2        commissioning machinery assistant   \n",
              "3           3          account executive washington dc   \n",
              "4           4                      bill review manager   \n",
              "\n",
              "                                          c_benefits  \\\n",
              "0                                                NaN   \n",
              "1  get part team gain experience working located ...   \n",
              "2                                                NaN   \n",
              "3  culture collaborative creative environment pho...   \n",
              "4                                               full   \n",
              "\n",
              "                                      c_requirements  \\\n",
              "0  experience content management major plus famil...   \n",
              "1  expect key responsibility communicate client t...   \n",
              "2  implement commissioning commissioning rotary e...   \n",
              "3  education bachelor master business administrat...   \n",
              "4  rn license state science nursing managerial ex...   \n",
              "\n",
              "                                   c_company_profile  \\\n",
              "0  food groundbreaking award winning cooking site...   \n",
              "1  cloud video production service cloud video pro...   \n",
              "2  valor service workforce meet need across priva...   \n",
              "3  passion improving quality life geography heart...   \n",
              "4  global human capital management firm miami flo...   \n",
              "\n",
              "                                       c_description            location  \\\n",
              "0  food fast growing james beard award winning on...    US, NY, New York   \n",
              "1  organised focused vibrant awesome passion cust...      NZ, , Auckland   \n",
              "2  client located houston actively seeking experi...       US, IA, Wever   \n",
              "3  company environmental research passion improvi...  US, DC, Washington   \n",
              "4  job title itemization review fort worth tx dep...  US, FL, Fort Worth   \n",
              "\n",
              "   telecommuting  has_company_logo  has_questions employment_type  \\\n",
              "0              0                 1              0           Other   \n",
              "1              0                 1              0       Full-time   \n",
              "2              0                 1              0       Full-time   \n",
              "3              0                 1              0       Full-time   \n",
              "4              0                 1              1       Full-time   \n",
              "\n",
              "  required_experience                             industry  \\\n",
              "0          Internship  Information Technology and Services   \n",
              "1      Not Applicable            Marketing and Advertising   \n",
              "2    Mid-Senior level  Information Technology and Services   \n",
              "3    Mid-Senior level                    Computer Software   \n",
              "4    Mid-Senior level               Hospital & Health Care   \n",
              "\n",
              "                 function  fraudulent  \n",
              "0               Marketing           0  \n",
              "1        Customer Service           0  \n",
              "2  Information Technology           0  \n",
              "3                   Sales           0  \n",
              "4    Health Care Provider           0  "
            ],
            "text/html": [
              "\n",
              "  <div id=\"df-5bda855a-f58f-46b8-a618-f9c1bf623211\">\n",
              "    <div class=\"colab-df-container\">\n",
              "      <div>\n",
              "<style scoped>\n",
              "    .dataframe tbody tr th:only-of-type {\n",
              "        vertical-align: middle;\n",
              "    }\n",
              "\n",
              "    .dataframe tbody tr th {\n",
              "        vertical-align: top;\n",
              "    }\n",
              "\n",
              "    .dataframe thead th {\n",
              "        text-align: right;\n",
              "    }\n",
              "</style>\n",
              "<table border=\"1\" class=\"dataframe\">\n",
              "  <thead>\n",
              "    <tr style=\"text-align: right;\">\n",
              "      <th></th>\n",
              "      <th>Unnamed: 0</th>\n",
              "      <th>c_title</th>\n",
              "      <th>c_benefits</th>\n",
              "      <th>c_requirements</th>\n",
              "      <th>c_company_profile</th>\n",
              "      <th>c_description</th>\n",
              "      <th>location</th>\n",
              "      <th>telecommuting</th>\n",
              "      <th>has_company_logo</th>\n",
              "      <th>has_questions</th>\n",
              "      <th>employment_type</th>\n",
              "      <th>required_experience</th>\n",
              "      <th>industry</th>\n",
              "      <th>function</th>\n",
              "      <th>fraudulent</th>\n",
              "    </tr>\n",
              "  </thead>\n",
              "  <tbody>\n",
              "    <tr>\n",
              "      <th>0</th>\n",
              "      <td>0</td>\n",
              "      <td>marketing intern</td>\n",
              "      <td>NaN</td>\n",
              "      <td>experience content management major plus famil...</td>\n",
              "      <td>food groundbreaking award winning cooking site...</td>\n",
              "      <td>food fast growing james beard award winning on...</td>\n",
              "      <td>US, NY, New York</td>\n",
              "      <td>0</td>\n",
              "      <td>1</td>\n",
              "      <td>0</td>\n",
              "      <td>Other</td>\n",
              "      <td>Internship</td>\n",
              "      <td>Information Technology and Services</td>\n",
              "      <td>Marketing</td>\n",
              "      <td>0</td>\n",
              "    </tr>\n",
              "    <tr>\n",
              "      <th>1</th>\n",
              "      <td>1</td>\n",
              "      <td>customer service cloud video production</td>\n",
              "      <td>get part team gain experience working located ...</td>\n",
              "      <td>expect key responsibility communicate client t...</td>\n",
              "      <td>cloud video production service cloud video pro...</td>\n",
              "      <td>organised focused vibrant awesome passion cust...</td>\n",
              "      <td>NZ, , Auckland</td>\n",
              "      <td>0</td>\n",
              "      <td>1</td>\n",
              "      <td>0</td>\n",
              "      <td>Full-time</td>\n",
              "      <td>Not Applicable</td>\n",
              "      <td>Marketing and Advertising</td>\n",
              "      <td>Customer Service</td>\n",
              "      <td>0</td>\n",
              "    </tr>\n",
              "    <tr>\n",
              "      <th>2</th>\n",
              "      <td>2</td>\n",
              "      <td>commissioning machinery assistant</td>\n",
              "      <td>NaN</td>\n",
              "      <td>implement commissioning commissioning rotary e...</td>\n",
              "      <td>valor service workforce meet need across priva...</td>\n",
              "      <td>client located houston actively seeking experi...</td>\n",
              "      <td>US, IA, Wever</td>\n",
              "      <td>0</td>\n",
              "      <td>1</td>\n",
              "      <td>0</td>\n",
              "      <td>Full-time</td>\n",
              "      <td>Mid-Senior level</td>\n",
              "      <td>Information Technology and Services</td>\n",
              "      <td>Information Technology</td>\n",
              "      <td>0</td>\n",
              "    </tr>\n",
              "    <tr>\n",
              "      <th>3</th>\n",
              "      <td>3</td>\n",
              "      <td>account executive washington dc</td>\n",
              "      <td>culture collaborative creative environment pho...</td>\n",
              "      <td>education bachelor master business administrat...</td>\n",
              "      <td>passion improving quality life geography heart...</td>\n",
              "      <td>company environmental research passion improvi...</td>\n",
              "      <td>US, DC, Washington</td>\n",
              "      <td>0</td>\n",
              "      <td>1</td>\n",
              "      <td>0</td>\n",
              "      <td>Full-time</td>\n",
              "      <td>Mid-Senior level</td>\n",
              "      <td>Computer Software</td>\n",
              "      <td>Sales</td>\n",
              "      <td>0</td>\n",
              "    </tr>\n",
              "    <tr>\n",
              "      <th>4</th>\n",
              "      <td>4</td>\n",
              "      <td>bill review manager</td>\n",
              "      <td>full</td>\n",
              "      <td>rn license state science nursing managerial ex...</td>\n",
              "      <td>global human capital management firm miami flo...</td>\n",
              "      <td>job title itemization review fort worth tx dep...</td>\n",
              "      <td>US, FL, Fort Worth</td>\n",
              "      <td>0</td>\n",
              "      <td>1</td>\n",
              "      <td>1</td>\n",
              "      <td>Full-time</td>\n",
              "      <td>Mid-Senior level</td>\n",
              "      <td>Hospital &amp; Health Care</td>\n",
              "      <td>Health Care Provider</td>\n",
              "      <td>0</td>\n",
              "    </tr>\n",
              "  </tbody>\n",
              "</table>\n",
              "</div>\n",
              "      <button class=\"colab-df-convert\" onclick=\"convertToInteractive('df-5bda855a-f58f-46b8-a618-f9c1bf623211')\"\n",
              "              title=\"Convert this dataframe to an interactive table.\"\n",
              "              style=\"display:none;\">\n",
              "        \n",
              "  <svg xmlns=\"http://www.w3.org/2000/svg\" height=\"24px\"viewBox=\"0 0 24 24\"\n",
              "       width=\"24px\">\n",
              "    <path d=\"M0 0h24v24H0V0z\" fill=\"none\"/>\n",
              "    <path d=\"M18.56 5.44l.94 2.06.94-2.06 2.06-.94-2.06-.94-.94-2.06-.94 2.06-2.06.94zm-11 1L8.5 8.5l.94-2.06 2.06-.94-2.06-.94L8.5 2.5l-.94 2.06-2.06.94zm10 10l.94 2.06.94-2.06 2.06-.94-2.06-.94-.94-2.06-.94 2.06-2.06.94z\"/><path d=\"M17.41 7.96l-1.37-1.37c-.4-.4-.92-.59-1.43-.59-.52 0-1.04.2-1.43.59L10.3 9.45l-7.72 7.72c-.78.78-.78 2.05 0 2.83L4 21.41c.39.39.9.59 1.41.59.51 0 1.02-.2 1.41-.59l7.78-7.78 2.81-2.81c.8-.78.8-2.07 0-2.86zM5.41 20L4 18.59l7.72-7.72 1.47 1.35L5.41 20z\"/>\n",
              "  </svg>\n",
              "      </button>\n",
              "      \n",
              "  <style>\n",
              "    .colab-df-container {\n",
              "      display:flex;\n",
              "      flex-wrap:wrap;\n",
              "      gap: 12px;\n",
              "    }\n",
              "\n",
              "    .colab-df-convert {\n",
              "      background-color: #E8F0FE;\n",
              "      border: none;\n",
              "      border-radius: 50%;\n",
              "      cursor: pointer;\n",
              "      display: none;\n",
              "      fill: #1967D2;\n",
              "      height: 32px;\n",
              "      padding: 0 0 0 0;\n",
              "      width: 32px;\n",
              "    }\n",
              "\n",
              "    .colab-df-convert:hover {\n",
              "      background-color: #E2EBFA;\n",
              "      box-shadow: 0px 1px 2px rgba(60, 64, 67, 0.3), 0px 1px 3px 1px rgba(60, 64, 67, 0.15);\n",
              "      fill: #174EA6;\n",
              "    }\n",
              "\n",
              "    [theme=dark] .colab-df-convert {\n",
              "      background-color: #3B4455;\n",
              "      fill: #D2E3FC;\n",
              "    }\n",
              "\n",
              "    [theme=dark] .colab-df-convert:hover {\n",
              "      background-color: #434B5C;\n",
              "      box-shadow: 0px 1px 3px 1px rgba(0, 0, 0, 0.15);\n",
              "      filter: drop-shadow(0px 1px 2px rgba(0, 0, 0, 0.3));\n",
              "      fill: #FFFFFF;\n",
              "    }\n",
              "  </style>\n",
              "\n",
              "      <script>\n",
              "        const buttonEl =\n",
              "          document.querySelector('#df-5bda855a-f58f-46b8-a618-f9c1bf623211 button.colab-df-convert');\n",
              "        buttonEl.style.display =\n",
              "          google.colab.kernel.accessAllowed ? 'block' : 'none';\n",
              "\n",
              "        async function convertToInteractive(key) {\n",
              "          const element = document.querySelector('#df-5bda855a-f58f-46b8-a618-f9c1bf623211');\n",
              "          const dataTable =\n",
              "            await google.colab.kernel.invokeFunction('convertToInteractive',\n",
              "                                                     [key], {});\n",
              "          if (!dataTable) return;\n",
              "\n",
              "          const docLinkHtml = 'Like what you see? Visit the ' +\n",
              "            '<a target=\"_blank\" href=https://colab.research.google.com/notebooks/data_table.ipynb>data table notebook</a>'\n",
              "            + ' to learn more about interactive tables.';\n",
              "          element.innerHTML = '';\n",
              "          dataTable['output_type'] = 'display_data';\n",
              "          await google.colab.output.renderOutput(dataTable, element);\n",
              "          const docLink = document.createElement('div');\n",
              "          docLink.innerHTML = docLinkHtml;\n",
              "          element.appendChild(docLink);\n",
              "        }\n",
              "      </script>\n",
              "    </div>\n",
              "  </div>\n",
              "  "
            ]
          },
          "metadata": {},
          "execution_count": 8
        }
      ],
      "source": [
        "#df = pd.read_csv(\"fake_job_postings_most_freq_text_cleaned.csv\")fake_job_postings_imputed_text_cleaned.csv\n",
        "df = pd.read_csv(\"fake_job_postings_imputed_text_cleaned.csv\")\n",
        "df.head()"
      ]
    },
    {
      "cell_type": "markdown",
      "source": [
        "### 1.2 Add words# as features"
      ],
      "metadata": {
        "id": "Xu7L8xpatPE8"
      },
      "id": "Xu7L8xpatPE8"
    },
    {
      "cell_type": "code",
      "execution_count": 9,
      "id": "superb-photographer",
      "metadata": {
        "ExecuteTime": {
          "end_time": "2022-11-11T06:51:08.872451Z",
          "start_time": "2022-11-11T06:51:07.787851Z"
        },
        "id": "superb-photographer"
      },
      "outputs": [],
      "source": [
        "cols = [\"c_title\", \"c_company_profile\", \"c_description\", \"c_requirements\", \"c_benefits\"]\n",
        "for c in cols:\n",
        "    df[c] = df[c].fillna(\"\") #replace nan\n",
        "\n",
        "def extract_features(df):    \n",
        "    for c in cols:\n",
        "        #df[c+\"_len\"] = df[c].apply(lambda x : len(str(x))) #\n",
        "        df[c+\"_wc\"] = df[c].apply(lambda x : len(str(x.split()))) #\n",
        "\n",
        "    \n",
        "extract_features(df)"
      ]
    },
    {
      "cell_type": "markdown",
      "source": [
        "### 1.3 Different types in special columns"
      ],
      "metadata": {
        "id": "baheRrRAtiLx"
      },
      "id": "baheRrRAtiLx"
    },
    {
      "cell_type": "code",
      "execution_count": 10,
      "id": "located-toner",
      "metadata": {
        "ExecuteTime": {
          "end_time": "2022-11-11T06:51:19.603102Z",
          "start_time": "2022-11-11T06:51:10.564430Z"
        },
        "id": "located-toner"
      },
      "outputs": [],
      "source": [
        "cat_cols = [\"employment_type\", \"required_experience\",\"industry\", \"function\"]\n",
        "#,\"industry\", \"function\"\n",
        "for c in cat_cols:\n",
        "    encoded = pd.get_dummies(df[c]) \n",
        "    encoded.rename(columns=lambda x:x+c, inplace=True)\n",
        "    df = pd.concat([df, encoded], axis=1) "
      ]
    },
    {
      "cell_type": "markdown",
      "source": [
        "### 1.4 Drop unnecessary columns"
      ],
      "metadata": {
        "id": "6T_giJOfuIwt"
      },
      "id": "6T_giJOfuIwt"
    },
    {
      "cell_type": "code",
      "execution_count": 11,
      "id": "august-creator",
      "metadata": {
        "ExecuteTime": {
          "end_time": "2022-11-11T06:51:37.093646Z",
          "start_time": "2022-11-11T06:51:36.988013Z"
        },
        "id": "august-creator",
        "outputId": "c6c0c1af-25a7-4254-f215-682bf7861f25",
        "colab": {
          "base_uri": "https://localhost:8080/",
          "height": 317
        }
      },
      "outputs": [
        {
          "output_type": "execute_result",
          "data": {
            "text/plain": [
              "   Unnamed: 0  telecommuting  has_company_logo  has_questions  fraudulent  \\\n",
              "0           0              0                 1              0           0   \n",
              "1           1              0                 1              0           0   \n",
              "2           2              0                 1              0           0   \n",
              "3           3              0                 1              0           0   \n",
              "4           4              0                 1              1           0   \n",
              "\n",
              "   c_title_wc  c_company_profile_wc  c_description_wc  c_requirements_wc  \\\n",
              "0          23                   661               575                563   \n",
              "1          55                   647              1518               1011   \n",
              "2          43                   598               284               1080   \n",
              "3          44                   457              1767               1028   \n",
              "4          29                  1295              1031                475   \n",
              "\n",
              "   c_benefits_wc  ...  Public Relationsfunction  Purchasingfunction  \\\n",
              "0              2  ...                         0                   0   \n",
              "1            876  ...                         0                   0   \n",
              "2              2  ...                         0                   0   \n",
              "3            526  ...                         0                   0   \n",
              "4              8  ...                         0                   0   \n",
              "\n",
              "   Quality Assurancefunction  Researchfunction  Salesfunction  \\\n",
              "0                          0                 0              0   \n",
              "1                          0                 0              0   \n",
              "2                          0                 0              0   \n",
              "3                          0                 0              1   \n",
              "4                          0                 0              0   \n",
              "\n",
              "   Sciencefunction  Strategy/Planningfunction  Supply Chainfunction  \\\n",
              "0                0                          0                     0   \n",
              "1                0                          0                     0   \n",
              "2                0                          0                     0   \n",
              "3                0                          0                     0   \n",
              "4                0                          0                     0   \n",
              "\n",
              "   Trainingfunction  Writing/Editingfunction  \n",
              "0                 0                        0  \n",
              "1                 0                        0  \n",
              "2                 0                        0  \n",
              "3                 0                        0  \n",
              "4                 0                        0  \n",
              "\n",
              "[5 rows x 190 columns]"
            ],
            "text/html": [
              "\n",
              "  <div id=\"df-f75b370b-9b93-4e6b-8ef3-ef37062981ed\">\n",
              "    <div class=\"colab-df-container\">\n",
              "      <div>\n",
              "<style scoped>\n",
              "    .dataframe tbody tr th:only-of-type {\n",
              "        vertical-align: middle;\n",
              "    }\n",
              "\n",
              "    .dataframe tbody tr th {\n",
              "        vertical-align: top;\n",
              "    }\n",
              "\n",
              "    .dataframe thead th {\n",
              "        text-align: right;\n",
              "    }\n",
              "</style>\n",
              "<table border=\"1\" class=\"dataframe\">\n",
              "  <thead>\n",
              "    <tr style=\"text-align: right;\">\n",
              "      <th></th>\n",
              "      <th>Unnamed: 0</th>\n",
              "      <th>telecommuting</th>\n",
              "      <th>has_company_logo</th>\n",
              "      <th>has_questions</th>\n",
              "      <th>fraudulent</th>\n",
              "      <th>c_title_wc</th>\n",
              "      <th>c_company_profile_wc</th>\n",
              "      <th>c_description_wc</th>\n",
              "      <th>c_requirements_wc</th>\n",
              "      <th>c_benefits_wc</th>\n",
              "      <th>...</th>\n",
              "      <th>Public Relationsfunction</th>\n",
              "      <th>Purchasingfunction</th>\n",
              "      <th>Quality Assurancefunction</th>\n",
              "      <th>Researchfunction</th>\n",
              "      <th>Salesfunction</th>\n",
              "      <th>Sciencefunction</th>\n",
              "      <th>Strategy/Planningfunction</th>\n",
              "      <th>Supply Chainfunction</th>\n",
              "      <th>Trainingfunction</th>\n",
              "      <th>Writing/Editingfunction</th>\n",
              "    </tr>\n",
              "  </thead>\n",
              "  <tbody>\n",
              "    <tr>\n",
              "      <th>0</th>\n",
              "      <td>0</td>\n",
              "      <td>0</td>\n",
              "      <td>1</td>\n",
              "      <td>0</td>\n",
              "      <td>0</td>\n",
              "      <td>23</td>\n",
              "      <td>661</td>\n",
              "      <td>575</td>\n",
              "      <td>563</td>\n",
              "      <td>2</td>\n",
              "      <td>...</td>\n",
              "      <td>0</td>\n",
              "      <td>0</td>\n",
              "      <td>0</td>\n",
              "      <td>0</td>\n",
              "      <td>0</td>\n",
              "      <td>0</td>\n",
              "      <td>0</td>\n",
              "      <td>0</td>\n",
              "      <td>0</td>\n",
              "      <td>0</td>\n",
              "    </tr>\n",
              "    <tr>\n",
              "      <th>1</th>\n",
              "      <td>1</td>\n",
              "      <td>0</td>\n",
              "      <td>1</td>\n",
              "      <td>0</td>\n",
              "      <td>0</td>\n",
              "      <td>55</td>\n",
              "      <td>647</td>\n",
              "      <td>1518</td>\n",
              "      <td>1011</td>\n",
              "      <td>876</td>\n",
              "      <td>...</td>\n",
              "      <td>0</td>\n",
              "      <td>0</td>\n",
              "      <td>0</td>\n",
              "      <td>0</td>\n",
              "      <td>0</td>\n",
              "      <td>0</td>\n",
              "      <td>0</td>\n",
              "      <td>0</td>\n",
              "      <td>0</td>\n",
              "      <td>0</td>\n",
              "    </tr>\n",
              "    <tr>\n",
              "      <th>2</th>\n",
              "      <td>2</td>\n",
              "      <td>0</td>\n",
              "      <td>1</td>\n",
              "      <td>0</td>\n",
              "      <td>0</td>\n",
              "      <td>43</td>\n",
              "      <td>598</td>\n",
              "      <td>284</td>\n",
              "      <td>1080</td>\n",
              "      <td>2</td>\n",
              "      <td>...</td>\n",
              "      <td>0</td>\n",
              "      <td>0</td>\n",
              "      <td>0</td>\n",
              "      <td>0</td>\n",
              "      <td>0</td>\n",
              "      <td>0</td>\n",
              "      <td>0</td>\n",
              "      <td>0</td>\n",
              "      <td>0</td>\n",
              "      <td>0</td>\n",
              "    </tr>\n",
              "    <tr>\n",
              "      <th>3</th>\n",
              "      <td>3</td>\n",
              "      <td>0</td>\n",
              "      <td>1</td>\n",
              "      <td>0</td>\n",
              "      <td>0</td>\n",
              "      <td>44</td>\n",
              "      <td>457</td>\n",
              "      <td>1767</td>\n",
              "      <td>1028</td>\n",
              "      <td>526</td>\n",
              "      <td>...</td>\n",
              "      <td>0</td>\n",
              "      <td>0</td>\n",
              "      <td>0</td>\n",
              "      <td>0</td>\n",
              "      <td>1</td>\n",
              "      <td>0</td>\n",
              "      <td>0</td>\n",
              "      <td>0</td>\n",
              "      <td>0</td>\n",
              "      <td>0</td>\n",
              "    </tr>\n",
              "    <tr>\n",
              "      <th>4</th>\n",
              "      <td>4</td>\n",
              "      <td>0</td>\n",
              "      <td>1</td>\n",
              "      <td>1</td>\n",
              "      <td>0</td>\n",
              "      <td>29</td>\n",
              "      <td>1295</td>\n",
              "      <td>1031</td>\n",
              "      <td>475</td>\n",
              "      <td>8</td>\n",
              "      <td>...</td>\n",
              "      <td>0</td>\n",
              "      <td>0</td>\n",
              "      <td>0</td>\n",
              "      <td>0</td>\n",
              "      <td>0</td>\n",
              "      <td>0</td>\n",
              "      <td>0</td>\n",
              "      <td>0</td>\n",
              "      <td>0</td>\n",
              "      <td>0</td>\n",
              "    </tr>\n",
              "  </tbody>\n",
              "</table>\n",
              "<p>5 rows × 190 columns</p>\n",
              "</div>\n",
              "      <button class=\"colab-df-convert\" onclick=\"convertToInteractive('df-f75b370b-9b93-4e6b-8ef3-ef37062981ed')\"\n",
              "              title=\"Convert this dataframe to an interactive table.\"\n",
              "              style=\"display:none;\">\n",
              "        \n",
              "  <svg xmlns=\"http://www.w3.org/2000/svg\" height=\"24px\"viewBox=\"0 0 24 24\"\n",
              "       width=\"24px\">\n",
              "    <path d=\"M0 0h24v24H0V0z\" fill=\"none\"/>\n",
              "    <path d=\"M18.56 5.44l.94 2.06.94-2.06 2.06-.94-2.06-.94-.94-2.06-.94 2.06-2.06.94zm-11 1L8.5 8.5l.94-2.06 2.06-.94-2.06-.94L8.5 2.5l-.94 2.06-2.06.94zm10 10l.94 2.06.94-2.06 2.06-.94-2.06-.94-.94-2.06-.94 2.06-2.06.94z\"/><path d=\"M17.41 7.96l-1.37-1.37c-.4-.4-.92-.59-1.43-.59-.52 0-1.04.2-1.43.59L10.3 9.45l-7.72 7.72c-.78.78-.78 2.05 0 2.83L4 21.41c.39.39.9.59 1.41.59.51 0 1.02-.2 1.41-.59l7.78-7.78 2.81-2.81c.8-.78.8-2.07 0-2.86zM5.41 20L4 18.59l7.72-7.72 1.47 1.35L5.41 20z\"/>\n",
              "  </svg>\n",
              "      </button>\n",
              "      \n",
              "  <style>\n",
              "    .colab-df-container {\n",
              "      display:flex;\n",
              "      flex-wrap:wrap;\n",
              "      gap: 12px;\n",
              "    }\n",
              "\n",
              "    .colab-df-convert {\n",
              "      background-color: #E8F0FE;\n",
              "      border: none;\n",
              "      border-radius: 50%;\n",
              "      cursor: pointer;\n",
              "      display: none;\n",
              "      fill: #1967D2;\n",
              "      height: 32px;\n",
              "      padding: 0 0 0 0;\n",
              "      width: 32px;\n",
              "    }\n",
              "\n",
              "    .colab-df-convert:hover {\n",
              "      background-color: #E2EBFA;\n",
              "      box-shadow: 0px 1px 2px rgba(60, 64, 67, 0.3), 0px 1px 3px 1px rgba(60, 64, 67, 0.15);\n",
              "      fill: #174EA6;\n",
              "    }\n",
              "\n",
              "    [theme=dark] .colab-df-convert {\n",
              "      background-color: #3B4455;\n",
              "      fill: #D2E3FC;\n",
              "    }\n",
              "\n",
              "    [theme=dark] .colab-df-convert:hover {\n",
              "      background-color: #434B5C;\n",
              "      box-shadow: 0px 1px 3px 1px rgba(0, 0, 0, 0.15);\n",
              "      filter: drop-shadow(0px 1px 2px rgba(0, 0, 0, 0.3));\n",
              "      fill: #FFFFFF;\n",
              "    }\n",
              "  </style>\n",
              "\n",
              "      <script>\n",
              "        const buttonEl =\n",
              "          document.querySelector('#df-f75b370b-9b93-4e6b-8ef3-ef37062981ed button.colab-df-convert');\n",
              "        buttonEl.style.display =\n",
              "          google.colab.kernel.accessAllowed ? 'block' : 'none';\n",
              "\n",
              "        async function convertToInteractive(key) {\n",
              "          const element = document.querySelector('#df-f75b370b-9b93-4e6b-8ef3-ef37062981ed');\n",
              "          const dataTable =\n",
              "            await google.colab.kernel.invokeFunction('convertToInteractive',\n",
              "                                                     [key], {});\n",
              "          if (!dataTable) return;\n",
              "\n",
              "          const docLinkHtml = 'Like what you see? Visit the ' +\n",
              "            '<a target=\"_blank\" href=https://colab.research.google.com/notebooks/data_table.ipynb>data table notebook</a>'\n",
              "            + ' to learn more about interactive tables.';\n",
              "          element.innerHTML = '';\n",
              "          dataTable['output_type'] = 'display_data';\n",
              "          await google.colab.output.renderOutput(dataTable, element);\n",
              "          const docLink = document.createElement('div');\n",
              "          docLink.innerHTML = docLinkHtml;\n",
              "          element.appendChild(docLink);\n",
              "        }\n",
              "      </script>\n",
              "    </div>\n",
              "  </div>\n",
              "  "
            ]
          },
          "metadata": {},
          "execution_count": 11
        }
      ],
      "source": [
        "drop_cols = ['c_title', 'location','c_company_profile', 'c_description', 'c_requirements', 'c_benefits']\n",
        "drop_cols += cat_cols\n",
        "df = df.drop(drop_cols, axis = 1)\n",
        "df.head()"
      ]
    },
    {
      "cell_type": "markdown",
      "source": [
        "### 1.5 Data normalization"
      ],
      "metadata": {
        "id": "C1UCJXQfuSGu"
      },
      "id": "C1UCJXQfuSGu"
    },
    {
      "cell_type": "code",
      "execution_count": 12,
      "id": "generic-seven",
      "metadata": {
        "ExecuteTime": {
          "end_time": "2022-11-11T06:52:08.160979Z",
          "start_time": "2022-11-11T06:52:08.117171Z"
        },
        "id": "generic-seven",
        "outputId": "2164d9b1-a49b-4f91-ce45-09ba19f31172",
        "colab": {
          "base_uri": "https://localhost:8080/",
          "height": 505
        }
      },
      "outputs": [
        {
          "output_type": "execute_result",
          "data": {
            "text/plain": [
              "       Unnamed: 0  telecommuting  has_company_logo  has_questions  fraudulent  \\\n",
              "0               0              0                 1              0           0   \n",
              "1               1              0                 1              0           0   \n",
              "2               2              0                 1              0           0   \n",
              "3               3              0                 1              0           0   \n",
              "4               4              0                 1              1           0   \n",
              "...           ...            ...               ...            ...         ...   \n",
              "17491       17875              0                 1              1           0   \n",
              "17492       17876              0                 1              1           0   \n",
              "17493       17877              0                 0              0           0   \n",
              "17494       17878              0                 0              1           0   \n",
              "17495       17879              0                 1              1           0   \n",
              "\n",
              "       c_title_wc  c_company_profile_wc  c_description_wc  c_requirements_wc  \\\n",
              "0        0.120000              0.149671          0.045204           0.062333   \n",
              "1        0.302857              0.146491          0.119596           0.112111   \n",
              "2        0.234286              0.135362          0.022247           0.119778   \n",
              "3        0.240000              0.103339          0.139240           0.114000   \n",
              "4        0.154286              0.293663          0.081177           0.052556   \n",
              "...           ...                   ...               ...                ...   \n",
              "17491    0.211429              0.319328          0.073209           0.092000   \n",
              "17492    0.131429              0.326823          0.084411           0.072111   \n",
              "17493    0.422857              0.042925          0.082518           0.096222   \n",
              "17494    0.120000              0.000000          0.026270           0.047667   \n",
              "17495    0.114286              0.319328          0.106895           0.070444   \n",
              "\n",
              "       c_benefits_wc  ...  Public Relationsfunction  Purchasingfunction  \\\n",
              "0           0.000000  ...                         0                   0   \n",
              "1           0.254588  ...                         0                   0   \n",
              "2           0.000000  ...                         0                   0   \n",
              "3           0.152636  ...                         0                   0   \n",
              "4           0.001748  ...                         0                   0   \n",
              "...              ...  ...                       ...                 ...   \n",
              "17491       0.179726  ...                         0                   0   \n",
              "17492       0.078066  ...                         0                   0   \n",
              "17493       0.000000  ...                         0                   0   \n",
              "17494       0.054180  ...                         0                   0   \n",
              "17495       0.000000  ...                         0                   0   \n",
              "\n",
              "       Quality Assurancefunction  Researchfunction  Salesfunction  \\\n",
              "0                              0                 0              0   \n",
              "1                              0                 0              0   \n",
              "2                              0                 0              0   \n",
              "3                              0                 0              1   \n",
              "4                              0                 0              0   \n",
              "...                          ...               ...            ...   \n",
              "17491                          0                 0              1   \n",
              "17492                          0                 0              0   \n",
              "17493                          0                 0              0   \n",
              "17494                          0                 0              0   \n",
              "17495                          0                 0              0   \n",
              "\n",
              "       Sciencefunction  Strategy/Planningfunction  Supply Chainfunction  \\\n",
              "0                    0                          0                     0   \n",
              "1                    0                          0                     0   \n",
              "2                    0                          0                     0   \n",
              "3                    0                          0                     0   \n",
              "4                    0                          0                     0   \n",
              "...                ...                        ...                   ...   \n",
              "17491                0                          0                     0   \n",
              "17492                0                          0                     0   \n",
              "17493                0                          0                     0   \n",
              "17494                0                          0                     0   \n",
              "17495                0                          0                     0   \n",
              "\n",
              "       Trainingfunction  Writing/Editingfunction  \n",
              "0                     0                        0  \n",
              "1                     0                        0  \n",
              "2                     0                        0  \n",
              "3                     0                        0  \n",
              "4                     0                        0  \n",
              "...                 ...                      ...  \n",
              "17491                 0                        0  \n",
              "17492                 0                        0  \n",
              "17493                 0                        0  \n",
              "17494                 0                        0  \n",
              "17495                 0                        0  \n",
              "\n",
              "[17496 rows x 190 columns]"
            ],
            "text/html": [
              "\n",
              "  <div id=\"df-a548f4ae-382e-4e84-9f3d-91aa77f4b516\">\n",
              "    <div class=\"colab-df-container\">\n",
              "      <div>\n",
              "<style scoped>\n",
              "    .dataframe tbody tr th:only-of-type {\n",
              "        vertical-align: middle;\n",
              "    }\n",
              "\n",
              "    .dataframe tbody tr th {\n",
              "        vertical-align: top;\n",
              "    }\n",
              "\n",
              "    .dataframe thead th {\n",
              "        text-align: right;\n",
              "    }\n",
              "</style>\n",
              "<table border=\"1\" class=\"dataframe\">\n",
              "  <thead>\n",
              "    <tr style=\"text-align: right;\">\n",
              "      <th></th>\n",
              "      <th>Unnamed: 0</th>\n",
              "      <th>telecommuting</th>\n",
              "      <th>has_company_logo</th>\n",
              "      <th>has_questions</th>\n",
              "      <th>fraudulent</th>\n",
              "      <th>c_title_wc</th>\n",
              "      <th>c_company_profile_wc</th>\n",
              "      <th>c_description_wc</th>\n",
              "      <th>c_requirements_wc</th>\n",
              "      <th>c_benefits_wc</th>\n",
              "      <th>...</th>\n",
              "      <th>Public Relationsfunction</th>\n",
              "      <th>Purchasingfunction</th>\n",
              "      <th>Quality Assurancefunction</th>\n",
              "      <th>Researchfunction</th>\n",
              "      <th>Salesfunction</th>\n",
              "      <th>Sciencefunction</th>\n",
              "      <th>Strategy/Planningfunction</th>\n",
              "      <th>Supply Chainfunction</th>\n",
              "      <th>Trainingfunction</th>\n",
              "      <th>Writing/Editingfunction</th>\n",
              "    </tr>\n",
              "  </thead>\n",
              "  <tbody>\n",
              "    <tr>\n",
              "      <th>0</th>\n",
              "      <td>0</td>\n",
              "      <td>0</td>\n",
              "      <td>1</td>\n",
              "      <td>0</td>\n",
              "      <td>0</td>\n",
              "      <td>0.120000</td>\n",
              "      <td>0.149671</td>\n",
              "      <td>0.045204</td>\n",
              "      <td>0.062333</td>\n",
              "      <td>0.000000</td>\n",
              "      <td>...</td>\n",
              "      <td>0</td>\n",
              "      <td>0</td>\n",
              "      <td>0</td>\n",
              "      <td>0</td>\n",
              "      <td>0</td>\n",
              "      <td>0</td>\n",
              "      <td>0</td>\n",
              "      <td>0</td>\n",
              "      <td>0</td>\n",
              "      <td>0</td>\n",
              "    </tr>\n",
              "    <tr>\n",
              "      <th>1</th>\n",
              "      <td>1</td>\n",
              "      <td>0</td>\n",
              "      <td>1</td>\n",
              "      <td>0</td>\n",
              "      <td>0</td>\n",
              "      <td>0.302857</td>\n",
              "      <td>0.146491</td>\n",
              "      <td>0.119596</td>\n",
              "      <td>0.112111</td>\n",
              "      <td>0.254588</td>\n",
              "      <td>...</td>\n",
              "      <td>0</td>\n",
              "      <td>0</td>\n",
              "      <td>0</td>\n",
              "      <td>0</td>\n",
              "      <td>0</td>\n",
              "      <td>0</td>\n",
              "      <td>0</td>\n",
              "      <td>0</td>\n",
              "      <td>0</td>\n",
              "      <td>0</td>\n",
              "    </tr>\n",
              "    <tr>\n",
              "      <th>2</th>\n",
              "      <td>2</td>\n",
              "      <td>0</td>\n",
              "      <td>1</td>\n",
              "      <td>0</td>\n",
              "      <td>0</td>\n",
              "      <td>0.234286</td>\n",
              "      <td>0.135362</td>\n",
              "      <td>0.022247</td>\n",
              "      <td>0.119778</td>\n",
              "      <td>0.000000</td>\n",
              "      <td>...</td>\n",
              "      <td>0</td>\n",
              "      <td>0</td>\n",
              "      <td>0</td>\n",
              "      <td>0</td>\n",
              "      <td>0</td>\n",
              "      <td>0</td>\n",
              "      <td>0</td>\n",
              "      <td>0</td>\n",
              "      <td>0</td>\n",
              "      <td>0</td>\n",
              "    </tr>\n",
              "    <tr>\n",
              "      <th>3</th>\n",
              "      <td>3</td>\n",
              "      <td>0</td>\n",
              "      <td>1</td>\n",
              "      <td>0</td>\n",
              "      <td>0</td>\n",
              "      <td>0.240000</td>\n",
              "      <td>0.103339</td>\n",
              "      <td>0.139240</td>\n",
              "      <td>0.114000</td>\n",
              "      <td>0.152636</td>\n",
              "      <td>...</td>\n",
              "      <td>0</td>\n",
              "      <td>0</td>\n",
              "      <td>0</td>\n",
              "      <td>0</td>\n",
              "      <td>1</td>\n",
              "      <td>0</td>\n",
              "      <td>0</td>\n",
              "      <td>0</td>\n",
              "      <td>0</td>\n",
              "      <td>0</td>\n",
              "    </tr>\n",
              "    <tr>\n",
              "      <th>4</th>\n",
              "      <td>4</td>\n",
              "      <td>0</td>\n",
              "      <td>1</td>\n",
              "      <td>1</td>\n",
              "      <td>0</td>\n",
              "      <td>0.154286</td>\n",
              "      <td>0.293663</td>\n",
              "      <td>0.081177</td>\n",
              "      <td>0.052556</td>\n",
              "      <td>0.001748</td>\n",
              "      <td>...</td>\n",
              "      <td>0</td>\n",
              "      <td>0</td>\n",
              "      <td>0</td>\n",
              "      <td>0</td>\n",
              "      <td>0</td>\n",
              "      <td>0</td>\n",
              "      <td>0</td>\n",
              "      <td>0</td>\n",
              "      <td>0</td>\n",
              "      <td>0</td>\n",
              "    </tr>\n",
              "    <tr>\n",
              "      <th>...</th>\n",
              "      <td>...</td>\n",
              "      <td>...</td>\n",
              "      <td>...</td>\n",
              "      <td>...</td>\n",
              "      <td>...</td>\n",
              "      <td>...</td>\n",
              "      <td>...</td>\n",
              "      <td>...</td>\n",
              "      <td>...</td>\n",
              "      <td>...</td>\n",
              "      <td>...</td>\n",
              "      <td>...</td>\n",
              "      <td>...</td>\n",
              "      <td>...</td>\n",
              "      <td>...</td>\n",
              "      <td>...</td>\n",
              "      <td>...</td>\n",
              "      <td>...</td>\n",
              "      <td>...</td>\n",
              "      <td>...</td>\n",
              "      <td>...</td>\n",
              "    </tr>\n",
              "    <tr>\n",
              "      <th>17491</th>\n",
              "      <td>17875</td>\n",
              "      <td>0</td>\n",
              "      <td>1</td>\n",
              "      <td>1</td>\n",
              "      <td>0</td>\n",
              "      <td>0.211429</td>\n",
              "      <td>0.319328</td>\n",
              "      <td>0.073209</td>\n",
              "      <td>0.092000</td>\n",
              "      <td>0.179726</td>\n",
              "      <td>...</td>\n",
              "      <td>0</td>\n",
              "      <td>0</td>\n",
              "      <td>0</td>\n",
              "      <td>0</td>\n",
              "      <td>1</td>\n",
              "      <td>0</td>\n",
              "      <td>0</td>\n",
              "      <td>0</td>\n",
              "      <td>0</td>\n",
              "      <td>0</td>\n",
              "    </tr>\n",
              "    <tr>\n",
              "      <th>17492</th>\n",
              "      <td>17876</td>\n",
              "      <td>0</td>\n",
              "      <td>1</td>\n",
              "      <td>1</td>\n",
              "      <td>0</td>\n",
              "      <td>0.131429</td>\n",
              "      <td>0.326823</td>\n",
              "      <td>0.084411</td>\n",
              "      <td>0.072111</td>\n",
              "      <td>0.078066</td>\n",
              "      <td>...</td>\n",
              "      <td>0</td>\n",
              "      <td>0</td>\n",
              "      <td>0</td>\n",
              "      <td>0</td>\n",
              "      <td>0</td>\n",
              "      <td>0</td>\n",
              "      <td>0</td>\n",
              "      <td>0</td>\n",
              "      <td>0</td>\n",
              "      <td>0</td>\n",
              "    </tr>\n",
              "    <tr>\n",
              "      <th>17493</th>\n",
              "      <td>17877</td>\n",
              "      <td>0</td>\n",
              "      <td>0</td>\n",
              "      <td>0</td>\n",
              "      <td>0</td>\n",
              "      <td>0.422857</td>\n",
              "      <td>0.042925</td>\n",
              "      <td>0.082518</td>\n",
              "      <td>0.096222</td>\n",
              "      <td>0.000000</td>\n",
              "      <td>...</td>\n",
              "      <td>0</td>\n",
              "      <td>0</td>\n",
              "      <td>0</td>\n",
              "      <td>0</td>\n",
              "      <td>0</td>\n",
              "      <td>0</td>\n",
              "      <td>0</td>\n",
              "      <td>0</td>\n",
              "      <td>0</td>\n",
              "      <td>0</td>\n",
              "    </tr>\n",
              "    <tr>\n",
              "      <th>17494</th>\n",
              "      <td>17878</td>\n",
              "      <td>0</td>\n",
              "      <td>0</td>\n",
              "      <td>1</td>\n",
              "      <td>0</td>\n",
              "      <td>0.120000</td>\n",
              "      <td>0.000000</td>\n",
              "      <td>0.026270</td>\n",
              "      <td>0.047667</td>\n",
              "      <td>0.054180</td>\n",
              "      <td>...</td>\n",
              "      <td>0</td>\n",
              "      <td>0</td>\n",
              "      <td>0</td>\n",
              "      <td>0</td>\n",
              "      <td>0</td>\n",
              "      <td>0</td>\n",
              "      <td>0</td>\n",
              "      <td>0</td>\n",
              "      <td>0</td>\n",
              "      <td>0</td>\n",
              "    </tr>\n",
              "    <tr>\n",
              "      <th>17495</th>\n",
              "      <td>17879</td>\n",
              "      <td>0</td>\n",
              "      <td>1</td>\n",
              "      <td>1</td>\n",
              "      <td>0</td>\n",
              "      <td>0.114286</td>\n",
              "      <td>0.319328</td>\n",
              "      <td>0.106895</td>\n",
              "      <td>0.070444</td>\n",
              "      <td>0.000000</td>\n",
              "      <td>...</td>\n",
              "      <td>0</td>\n",
              "      <td>0</td>\n",
              "      <td>0</td>\n",
              "      <td>0</td>\n",
              "      <td>0</td>\n",
              "      <td>0</td>\n",
              "      <td>0</td>\n",
              "      <td>0</td>\n",
              "      <td>0</td>\n",
              "      <td>0</td>\n",
              "    </tr>\n",
              "  </tbody>\n",
              "</table>\n",
              "<p>17496 rows × 190 columns</p>\n",
              "</div>\n",
              "      <button class=\"colab-df-convert\" onclick=\"convertToInteractive('df-a548f4ae-382e-4e84-9f3d-91aa77f4b516')\"\n",
              "              title=\"Convert this dataframe to an interactive table.\"\n",
              "              style=\"display:none;\">\n",
              "        \n",
              "  <svg xmlns=\"http://www.w3.org/2000/svg\" height=\"24px\"viewBox=\"0 0 24 24\"\n",
              "       width=\"24px\">\n",
              "    <path d=\"M0 0h24v24H0V0z\" fill=\"none\"/>\n",
              "    <path d=\"M18.56 5.44l.94 2.06.94-2.06 2.06-.94-2.06-.94-.94-2.06-.94 2.06-2.06.94zm-11 1L8.5 8.5l.94-2.06 2.06-.94-2.06-.94L8.5 2.5l-.94 2.06-2.06.94zm10 10l.94 2.06.94-2.06 2.06-.94-2.06-.94-.94-2.06-.94 2.06-2.06.94z\"/><path d=\"M17.41 7.96l-1.37-1.37c-.4-.4-.92-.59-1.43-.59-.52 0-1.04.2-1.43.59L10.3 9.45l-7.72 7.72c-.78.78-.78 2.05 0 2.83L4 21.41c.39.39.9.59 1.41.59.51 0 1.02-.2 1.41-.59l7.78-7.78 2.81-2.81c.8-.78.8-2.07 0-2.86zM5.41 20L4 18.59l7.72-7.72 1.47 1.35L5.41 20z\"/>\n",
              "  </svg>\n",
              "      </button>\n",
              "      \n",
              "  <style>\n",
              "    .colab-df-container {\n",
              "      display:flex;\n",
              "      flex-wrap:wrap;\n",
              "      gap: 12px;\n",
              "    }\n",
              "\n",
              "    .colab-df-convert {\n",
              "      background-color: #E8F0FE;\n",
              "      border: none;\n",
              "      border-radius: 50%;\n",
              "      cursor: pointer;\n",
              "      display: none;\n",
              "      fill: #1967D2;\n",
              "      height: 32px;\n",
              "      padding: 0 0 0 0;\n",
              "      width: 32px;\n",
              "    }\n",
              "\n",
              "    .colab-df-convert:hover {\n",
              "      background-color: #E2EBFA;\n",
              "      box-shadow: 0px 1px 2px rgba(60, 64, 67, 0.3), 0px 1px 3px 1px rgba(60, 64, 67, 0.15);\n",
              "      fill: #174EA6;\n",
              "    }\n",
              "\n",
              "    [theme=dark] .colab-df-convert {\n",
              "      background-color: #3B4455;\n",
              "      fill: #D2E3FC;\n",
              "    }\n",
              "\n",
              "    [theme=dark] .colab-df-convert:hover {\n",
              "      background-color: #434B5C;\n",
              "      box-shadow: 0px 1px 3px 1px rgba(0, 0, 0, 0.15);\n",
              "      filter: drop-shadow(0px 1px 2px rgba(0, 0, 0, 0.3));\n",
              "      fill: #FFFFFF;\n",
              "    }\n",
              "  </style>\n",
              "\n",
              "      <script>\n",
              "        const buttonEl =\n",
              "          document.querySelector('#df-a548f4ae-382e-4e84-9f3d-91aa77f4b516 button.colab-df-convert');\n",
              "        buttonEl.style.display =\n",
              "          google.colab.kernel.accessAllowed ? 'block' : 'none';\n",
              "\n",
              "        async function convertToInteractive(key) {\n",
              "          const element = document.querySelector('#df-a548f4ae-382e-4e84-9f3d-91aa77f4b516');\n",
              "          const dataTable =\n",
              "            await google.colab.kernel.invokeFunction('convertToInteractive',\n",
              "                                                     [key], {});\n",
              "          if (!dataTable) return;\n",
              "\n",
              "          const docLinkHtml = 'Like what you see? Visit the ' +\n",
              "            '<a target=\"_blank\" href=https://colab.research.google.com/notebooks/data_table.ipynb>data table notebook</a>'\n",
              "            + ' to learn more about interactive tables.';\n",
              "          element.innerHTML = '';\n",
              "          dataTable['output_type'] = 'display_data';\n",
              "          await google.colab.output.renderOutput(dataTable, element);\n",
              "          const docLink = document.createElement('div');\n",
              "          docLink.innerHTML = docLinkHtml;\n",
              "          element.appendChild(docLink);\n",
              "        }\n",
              "      </script>\n",
              "    </div>\n",
              "  </div>\n",
              "  "
            ]
          },
          "metadata": {},
          "execution_count": 12
        }
      ],
      "source": [
        "# normalization\n",
        "cols = [\"c_title_wc\", \"c_company_profile_wc\", \"c_description_wc\", \"c_requirements_wc\", \"c_benefits_wc\"]\n",
        "#dd = df\n",
        "for c in cols:\n",
        "    df[c] =  (df[c] - df[c].min()) / (df[c].max() - df[c].min())\n",
        "#norm_duration = (df - data.duration.min()) / (data.duration.max() - data.duration.min())\n",
        "df"
      ]
    },
    {
      "cell_type": "markdown",
      "source": [
        "### 1.6 Create SparkSession and convert Pandas Dataframe to PySpark DataFrame"
      ],
      "metadata": {
        "id": "q_CsoJ8F4s65"
      },
      "id": "q_CsoJ8F4s65"
    },
    {
      "cell_type": "code",
      "source": [
        "#!pip install pyspark"
      ],
      "metadata": {
        "id": "kqx95_AhgW4j"
      },
      "id": "kqx95_AhgW4j",
      "execution_count": 13,
      "outputs": []
    },
    {
      "cell_type": "code",
      "source": [
        "import pyspark \n",
        "from pyspark.sql import SparkSession\n",
        "from pyspark.sql.types import StructType\n",
        "spark = SparkSession.builder \\\n",
        "    .master(\"local[*]\") \\\n",
        "    .appName(\"svm_2\") \\\n",
        "    .getOrCreate()\n",
        "sparkContext=spark.sparkContext\n",
        "df_from_pandas=spark.createDataFrame(df) \n",
        "df_from_pandas=df_from_pandas.withColumnRenamed(\"Unnamed: 0\", \"doc\")\n",
        "#df_from_pandas.printSchema()\n",
        "#df_from_pandas.show(1)"
      ],
      "metadata": {
        "id": "FS2zBBNU4yJJ"
      },
      "id": "FS2zBBNU4yJJ",
      "execution_count": 14,
      "outputs": []
    },
    {
      "cell_type": "code",
      "source": [
        "#df_from_pandas.printSchema()"
      ],
      "metadata": {
        "id": "QFpDft7P5fRc"
      },
      "id": "QFpDft7P5fRc",
      "execution_count": 15,
      "outputs": []
    },
    {
      "cell_type": "markdown",
      "source": [
        "### 1.7 Create TF IDF Features"
      ],
      "metadata": {
        "id": "f_mysGiZukTP"
      },
      "id": "f_mysGiZukTP"
    },
    {
      "cell_type": "markdown",
      "source": [
        "Read data from results of TFIDF processing step based on Hadoop"
      ],
      "metadata": {
        "id": "4b533zJPuqHl"
      },
      "id": "4b533zJPuqHl"
    },
    {
      "cell_type": "code",
      "source": [
        "from pyspark.sql.functions import split, col,substring,regexp_replace\n",
        "#tfidf_path = \"TFIDF_Hadoop/output3/part-r-00000\"\n",
        "tfidf_path = \"TFIDF_Hadoop/part-r-00000\"\n",
        "s = StructType() \\\n",
        "                    \t.add(\"word@doc\", \"string\")\\\n",
        "                    \t.add(\"score\", \"float\")\n",
        "tfidf=spark.read.csv(tfidf_path, sep=\"\\t\", schema=s)\n",
        "tfidf = tfidf.withColumn('word', split(tfidf['word@doc'], '@').getItem(0)) \\\n",
        "       .withColumn('doc', split(tfidf['word@doc'], '@').getItem(1)).drop('word@doc')\n",
        "#tfidf.show(5)"
      ],
      "metadata": {
        "id": "dGa5aW7E5lyn"
      },
      "id": "dGa5aW7E5lyn",
      "execution_count": 16,
      "outputs": []
    },
    {
      "cell_type": "markdown",
      "source": [
        "Get and select the top 1000 most frequent words"
      ],
      "metadata": {
        "id": "ScxukRzCvTRb"
      },
      "id": "ScxukRzCvTRb"
    },
    {
      "cell_type": "code",
      "source": [
        "from pyspark.sql.functions import sum, col, desc\n",
        "Day_count = tfidf.groupby('word').count()\n",
        "#features 500 1000 1500\n",
        "top = Day_count.orderBy(desc('count')).take(1000)\n",
        "deptDF = spark.createDataFrame(data=top)\n",
        "#deptDF.show(5)\n",
        "deptDF = deptDF.select('word').rdd.flatMap(lambda x: x).collect()\n",
        "resultDf = tfidf.filter(tfidf.word.isin(deptDF))\n",
        "#resultDf.show(5)"
      ],
      "metadata": {
        "id": "yMMmh5Vgfu6K"
      },
      "id": "yMMmh5Vgfu6K",
      "execution_count": 17,
      "outputs": []
    },
    {
      "cell_type": "markdown",
      "source": [
        "Create a spreadsheet-style pivot table as a DataFrame from tfidf"
      ],
      "metadata": {
        "id": "J4xW2A6zvsqu"
      },
      "id": "J4xW2A6zvsqu"
    },
    {
      "cell_type": "code",
      "source": [
        "pivotDF = resultDf.groupBy(\"doc\").pivot(\"word\").sum(\"score\")\n",
        "pivotDF = pivotDF.fillna(0)\n",
        "#pivotDF.show(5)"
      ],
      "metadata": {
        "id": "4UND7qilgBV3"
      },
      "id": "4UND7qilgBV3",
      "execution_count": 18,
      "outputs": []
    },
    {
      "cell_type": "markdown",
      "source": [
        "### 1.8 Merge the features of tfidf with other features"
      ],
      "metadata": {
        "id": "1eAVOTNsxO9Z"
      },
      "id": "1eAVOTNsxO9Z"
    },
    {
      "cell_type": "code",
      "execution_count": 19,
      "id": "vertical-voluntary",
      "metadata": {
        "ExecuteTime": {
          "end_time": "2022-11-11T08:17:31.143740Z",
          "start_time": "2022-11-11T08:17:29.232830Z"
        },
        "id": "vertical-voluntary"
      },
      "outputs": [],
      "source": [
        "#pivotDF = pivotDF.merge(sparkDF, on='doc',how='right')\n",
        "#df_from_pandas_l = df_from_pandas.select(col(\"doc\"),col(\"fraudulent\"))\n",
        "new_df = df_from_pandas.join(pivotDF, on='doc', how='left_outer')\n",
        "new_df=new_df.fillna(0)\n",
        "\n",
        "#new_df.show(5)"
      ]
    },
    {
      "cell_type": "code",
      "source": [
        "#new_df.printSchema()"
      ],
      "metadata": {
        "id": "1Un8ceWxrg10"
      },
      "id": "1Un8ceWxrg10",
      "execution_count": 20,
      "outputs": []
    },
    {
      "cell_type": "code",
      "source": [
        "#combined_df.show(5)"
      ],
      "metadata": {
        "id": "7swV2tbINLjo"
      },
      "id": "7swV2tbINLjo",
      "execution_count": 21,
      "outputs": []
    },
    {
      "cell_type": "markdown",
      "source": [
        "### 1.9 Created the feature vector"
      ],
      "metadata": {
        "id": "gMh2oEjWyFIh"
      },
      "id": "gMh2oEjWyFIh"
    },
    {
      "cell_type": "code",
      "execution_count": 22,
      "id": "several-genetics",
      "metadata": {
        "ExecuteTime": {
          "end_time": "2022-11-11T08:17:44.810651Z",
          "start_time": "2022-11-11T08:17:44.804675Z"
        },
        "id": "several-genetics"
      },
      "outputs": [],
      "source": [
        "#Library that contains the functions for building vectors\n",
        "from pyspark.ml.linalg import Vectors  \n",
        "from pyspark.ml.feature import VectorAssembler \n",
        "#Created the feature vector\n",
        "\n",
        "idd, target = \"doc\", \"fraudulent\"\n",
        "#not over\n",
        "features = [f for f in new_df.columns if f not in [idd, target]]\n",
        "vector_assembler = VectorAssembler(inputCols=features, outputCol=\"features\")\n",
        "df_temp = vector_assembler.transform(new_df)\n",
        "#over combined_df\n",
        "#features = [f for f in combined_df.columns if f not in [idd, target]]\n",
        "#vector_assembler = VectorAssembler(inputCols=features, outputCol=\"features\")\n",
        "#df_temp = vector_assembler.transform(combined_df)"
      ]
    },
    {
      "cell_type": "code",
      "source": [
        "#df_temp.printSchema()"
      ],
      "metadata": {
        "id": "4ghHT5mEqleW"
      },
      "id": "4ghHT5mEqleW",
      "execution_count": 23,
      "outputs": []
    },
    {
      "cell_type": "markdown",
      "source": [
        "### 1.10 select label and feature columns"
      ],
      "metadata": {
        "id": "VK4WwaerzBjb"
      },
      "id": "VK4WwaerzBjb"
    },
    {
      "cell_type": "code",
      "execution_count": 24,
      "id": "opened-satisfaction",
      "metadata": {
        "ExecuteTime": {
          "end_time": "2022-11-11T08:38:17.797287Z",
          "start_time": "2022-11-11T08:38:01.843635Z"
        },
        "id": "opened-satisfaction",
        "outputId": "37c035b5-392d-4d18-8060-d8f624273100",
        "colab": {
          "base_uri": "https://localhost:8080/"
        }
      },
      "outputs": [
        {
          "output_type": "stream",
          "name": "stdout",
          "text": [
            "root\n",
            " |-- fraudulent: long (nullable = true)\n",
            " |-- features: vector (nullable = true)\n",
            "\n"
          ]
        }
      ],
      "source": [
        "from pyspark.sql.functions import col\n",
        "df_formatted = df_temp.select(col(\"fraudulent\"),col(\"features\"))\n",
        "df_formatted.printSchema()\n",
        "#df_formatted.show(5)"
      ]
    },
    {
      "cell_type": "code",
      "execution_count": 25,
      "id": "statewide-virginia",
      "metadata": {
        "ExecuteTime": {
          "end_time": "2022-11-11T08:38:50.685241Z",
          "start_time": "2022-11-11T08:38:26.145761Z"
        },
        "id": "statewide-virginia"
      },
      "outputs": [],
      "source": [
        "df_SVM=df_formatted.selectExpr('features',\"fraudulent as label\")\n",
        "#df_SVM.show(2)"
      ]
    },
    {
      "cell_type": "code",
      "source": [
        "#df_SVM.show(2)"
      ],
      "metadata": {
        "id": "gGXVkr7GEwcR"
      },
      "id": "gGXVkr7GEwcR",
      "execution_count": 26,
      "outputs": []
    },
    {
      "cell_type": "code",
      "source": [
        "df_SVM.printSchema()"
      ],
      "metadata": {
        "colab": {
          "base_uri": "https://localhost:8080/"
        },
        "id": "9lQCQM-uzBtf",
        "outputId": "b03bbdd5-c78d-4946-8dbb-8993df5b0c78"
      },
      "id": "9lQCQM-uzBtf",
      "execution_count": 27,
      "outputs": [
        {
          "output_type": "stream",
          "name": "stdout",
          "text": [
            "root\n",
            " |-- features: vector (nullable = true)\n",
            " |-- label: long (nullable = true)\n",
            "\n"
          ]
        }
      ]
    },
    {
      "cell_type": "code",
      "source": [
        "#import pyspark.sql.functions as F\n",
        "#df_SVM=df_SVM.where((F.col(\"label\") == 0) | (F.col(\"label\") == 1))  #Transforms the dataset into a binary sorting problem"
      ],
      "metadata": {
        "id": "PDBNJA5UGNiO"
      },
      "id": "PDBNJA5UGNiO",
      "execution_count": 28,
      "outputs": []
    },
    {
      "cell_type": "markdown",
      "source": [
        "### 1.11 Splits between training and testing data"
      ],
      "metadata": {
        "id": "2v4oQgrzzSMx"
      },
      "id": "2v4oQgrzzSMx"
    },
    {
      "cell_type": "code",
      "execution_count": 29,
      "id": "august-intellectual",
      "metadata": {
        "ExecuteTime": {
          "end_time": "2022-11-11T08:39:52.180673Z",
          "start_time": "2022-11-11T08:39:06.443404Z"
        },
        "id": "august-intellectual"
      },
      "outputs": [],
      "source": [
        "#Splits between training and testing data\n",
        "(train, test) = df_SVM.randomSplit([0.8, 0.2])\n",
        "#train.show(10)"
      ]
    },
    {
      "cell_type": "code",
      "source": [
        "#yes = test.filter(col(\"label\") == 1)\n",
        "#print(yes.count())\n",
        "#no = test.filter(col(\"label\") == 0)\n",
        "#print(no.count())"
      ],
      "metadata": {
        "id": "Z9biMsfZFfBK"
      },
      "id": "Z9biMsfZFfBK",
      "execution_count": 30,
      "outputs": []
    },
    {
      "cell_type": "code",
      "source": [
        "#oversampled_df just for training data fix it!!!!!\n",
        "##!!!!!!!!!!\n",
        "from pyspark.sql.functions import col, explode, array, lit\n",
        "import math\n",
        "major_df = train.filter(col(\"label\") == 0)\n",
        "minor_df = train.filter(col(\"label\") == 1)\n",
        "#Expansion multiple\n",
        "time = 1\n",
        "#ratio = int(major_df.count()/minor_df.count()/time)\n",
        "ratio = 19\n",
        "a = range(ratio)\n",
        "# duplicate the minority rows\n",
        "oversampled_df = minor_df.withColumn(\"dummy\", explode(array([lit(x) for x in a]))).drop('dummy')\n",
        "# combine both oversampled minority rows and previous majority rows \n",
        "oversampled_train = major_df.unionAll(oversampled_df)\n"
      ],
      "metadata": {
        "id": "GjnD531d0439"
      },
      "id": "GjnD531d0439",
      "execution_count": 31,
      "outputs": []
    },
    {
      "cell_type": "code",
      "source": [
        "#yes = oversampled_train.filter(col(\"label\") == 1)\n",
        "##print(\"Real job in training set: \"+str(yes.count()))\n",
        "#no = oversampled_train.filter(col(\"label\") == 0)\n",
        "#print(\"Fake job in training set: \"+str(no.count()))"
      ],
      "metadata": {
        "id": "AwISSzQs08Yr"
      },
      "id": "AwISSzQs08Yr",
      "execution_count": 32,
      "outputs": []
    },
    {
      "cell_type": "markdown",
      "id": "broad-drawing",
      "metadata": {
        "id": "broad-drawing"
      },
      "source": [
        "## 2. Defines the SVM Model"
      ]
    },
    {
      "cell_type": "markdown",
      "source": [
        "### 2.1 seperate training data and testing data"
      ],
      "metadata": {
        "id": "fOK4edq0zpgs"
      },
      "id": "fOK4edq0zpgs"
    },
    {
      "cell_type": "code",
      "execution_count": 33,
      "id": "earlier-purpose",
      "metadata": {
        "ExecuteTime": {
          "end_time": "2022-11-11T08:41:00.575637Z",
          "start_time": "2022-11-11T08:40:49.741939Z"
        },
        "id": "earlier-purpose"
      },
      "outputs": [],
      "source": [
        "from pyspark.mllib.classification import SVMWithSGD, SVMModel  #Library for SVM Model\n",
        "from pyspark.ml.evaluation import MulticlassClassificationEvaluator  #Used to find performance metrics\n",
        "from pyspark.mllib.linalg import Vectors  #Dense vectors\n",
        "from pyspark.mllib.util import MLUtils\n",
        "#oversampled_train \n",
        "df_train = MLUtils.convertVectorColumnsFromML(oversampled_train, \"features\")\n",
        "#origin_train\n",
        "#df_train = MLUtils.convertVectorColumnsFromML(train, \"features\")\n",
        "df_test = MLUtils.convertVectorColumnsFromML(test, \"features\")"
      ]
    },
    {
      "cell_type": "code",
      "execution_count": 34,
      "id": "absolute-investment",
      "metadata": {
        "ExecuteTime": {
          "end_time": "2022-11-11T08:42:27.554310Z",
          "start_time": "2022-11-11T08:41:51.344072Z"
        },
        "id": "absolute-investment"
      },
      "outputs": [],
      "source": [
        "#df_train.show(5,False)"
      ]
    },
    {
      "cell_type": "markdown",
      "source": [
        "### 2.2 Apply the label"
      ],
      "metadata": {
        "id": "uhsWEtIBz0ZO"
      },
      "id": "uhsWEtIBz0ZO"
    },
    {
      "cell_type": "code",
      "execution_count": 35,
      "id": "encouraging-toolbox",
      "metadata": {
        "ExecuteTime": {
          "end_time": "2022-11-11T08:42:39.174949Z",
          "start_time": "2022-11-11T08:42:34.145996Z"
        },
        "id": "encouraging-toolbox"
      },
      "outputs": [],
      "source": [
        "from pyspark.mllib.regression import LabeledPoint  #Creates the \"line\" (characteristics and label) to be used\n",
        "\n",
        "trainingData = df_train.rdd.map(lambda row:LabeledPoint(row.label,row.features))  #Apply the label to the training\n",
        "testingData = df_test.rdd.map(lambda row:LabeledPoint(row.label,row.features))  #Apply the label to the test"
      ]
    },
    {
      "cell_type": "code",
      "execution_count": 36,
      "id": "widespread-semiconductor",
      "metadata": {
        "ExecuteTime": {
          "end_time": "2022-11-11T08:43:52.999402Z",
          "start_time": "2022-11-11T08:42:54.244075Z"
        },
        "id": "widespread-semiconductor"
      },
      "outputs": [],
      "source": [
        "#for xs in trainingData.take(10):\n",
        " #   print(xs)\n",
        " "
      ]
    },
    {
      "cell_type": "markdown",
      "source": [
        "### 2.3 Model build"
      ],
      "metadata": {
        "id": "xDZ0AeJVz34d"
      },
      "id": "xDZ0AeJVz34d"
    },
    {
      "cell_type": "code",
      "source": [
        "# 将数据暂存在内存中，加快后续运算效率\n",
        "#Set this RDD's storage level to persist its values across operations\n",
        "#after the first time it is computed. This can only be used to assign\n",
        "#a new storage level if the RDD does not have a storage level set yet.\n",
        "#If no storage level is specified defaults to (MEMORY_ONLY).\n",
        "trainingData.persist()\n",
        "testingData.persist()"
      ],
      "metadata": {
        "colab": {
          "base_uri": "https://localhost:8080/"
        },
        "id": "JxTcdy_f8q48",
        "outputId": "a400e713-660b-4da4-ba53-79b26fba97a5"
      },
      "id": "JxTcdy_f8q48",
      "execution_count": 37,
      "outputs": [
        {
          "output_type": "execute_result",
          "data": {
            "text/plain": [
              "PythonRDD[95] at RDD at PythonRDD.scala:53"
            ]
          },
          "metadata": {},
          "execution_count": 37
        }
      ]
    },
    {
      "cell_type": "code",
      "execution_count": 38,
      "id": "negative-jewel",
      "metadata": {
        "ExecuteTime": {
          "start_time": "2022-11-11T08:44:26.549Z"
        },
        "id": "negative-jewel"
      },
      "outputs": [],
      "source": [
        "#Model build\n",
        "modelSVM = SVMWithSGD.train(trainingData, iterations=1000,step = 0.01)"
      ]
    },
    {
      "cell_type": "markdown",
      "source": [
        "### 2.4 Performing the prediction"
      ],
      "metadata": {
        "id": "mICLfwI8z8D1"
      },
      "id": "mICLfwI8z8D1"
    },
    {
      "cell_type": "code",
      "source": [
        "#labelsAndPreds = testingData.map(lambda p: (p.label, modelSVM.predict(p.features)))\n",
        "#print(labelsAndPreds[0])"
      ],
      "metadata": {
        "id": "jpBaAfLApAjd"
      },
      "id": "jpBaAfLApAjd",
      "execution_count": 39,
      "outputs": []
    },
    {
      "cell_type": "code",
      "execution_count": 40,
      "id": "breathing-brunswick",
      "metadata": {
        "id": "breathing-brunswick",
        "colab": {
          "base_uri": "https://localhost:8080/"
        },
        "outputId": "eb09c2c2-35b0-4cf6-edbe-dedea6dd17da"
      },
      "outputs": [
        {
          "output_type": "stream",
          "name": "stdout",
          "text": [
            "accuracy:  0.9621653084982538\n",
            "precision:  0.6756756756756757\n",
            "recall:  0.17482517482517482\n",
            "F1_score:  0.2777777777777778\n"
          ]
        }
      ],
      "source": [
        "#Performing the prediction\n",
        "labelsAndPreds = testingData.map(lambda p: (p.label, modelSVM.predict(p.features)))\n",
        "def evaluation(labelsAndPreds):\n",
        "    tp = labelsAndPreds.filter(lambda lp: lp[0] == 1.0 and lp[1] == 1).count()\n",
        "    fn = labelsAndPreds.filter(lambda lp: lp[0] == 1.0 and lp[1] == 0).count()\n",
        "    fp = labelsAndPreds.filter(lambda lp: lp[0] == 0.0 and lp[1] == 1).count()\n",
        "    tn = labelsAndPreds.filter(lambda lp: lp[0] == 0.0 and lp[1] == 0).count()\n",
        "    #a = labelsAndPreds.filter(lambda lp: lp[0] == 0.0).count()\n",
        "    #b = labelsAndPreds.filter(lambda lp: lp[0] == 1.0).count()\n",
        "    p = tp + fn\n",
        "    n = fp + tn\n",
        "    #print(tp)\n",
        "    #print(fn)\n",
        "    #print(fp)\n",
        "    #print(tn)\n",
        "    acc = (tp+tn)/(p+n)\n",
        "    if tp+fp != 0 : precision = tp/(tp+fp)\n",
        "    else: precision = 0\n",
        "    recall = tp/p\n",
        "    F1_score = 2*tp/(2*tp+fp+fn)\n",
        "    return tp,fn,fp,tn,acc,precision,recall,F1_score\n",
        "\n",
        "tp,fn,fp,tn,acc,precision,recall,F1_score = evaluation(labelsAndPreds)\n",
        "print(\"accuracy: \",acc)\n",
        "print(\"precision: \",precision)\n",
        "print(\"recall: \",recall)\n",
        "print(\"F1_score: \",F1_score)"
      ]
    },
    {
      "cell_type": "code",
      "source": [
        "import seaborn as sns\n",
        "import matplotlib.pyplot as plt\n",
        "'''tp = 132\n",
        "fn = 46\n",
        "fp = 612\n",
        "tn = 2797\n",
        "p = tp + fn\n",
        "n = fp + tn\n",
        "acc = (tp+tn)/(p+n)\n",
        "precision = tp/(tp+fp)\n",
        "recall = tp/p\n",
        "F1_score = 2*tp/(2*tp+fp+fn)\n",
        "print(\"accuracy: \",acc)\n",
        "print(\"precision: \",precision)\n",
        "print(\"recall: \",recall)\n",
        "print(\"F1_score: \",F1_score)'''\n",
        "cm_tv = pd.DataFrame({\n",
        "  '1': [tp, fp],\n",
        "  '0': [fn, tn]},\n",
        "  index=['1','0']\n",
        "  )\n",
        "#print(cm_tv)132 46 612 2797\n",
        "cm_tv = pd.DataFrame(cm_tv)\n",
        "cm_tv.index.name = 'Actual'\n",
        "cm_tv.columns.name = 'Predicted'\n",
        "plt.figure(figsize = (10,10))\n",
        "sns.set(font_scale=2)\n",
        "sns.heatmap(cm_tv,cmap= \"Blues\",annot = True, fmt='',annot_kws={\"size\":50})"
      ],
      "metadata": {
        "colab": {
          "base_uri": "https://localhost:8080/",
          "height": 649
        },
        "id": "2teet-jPQ-Gr",
        "outputId": "afe1b7f4-7c90-4cb5-b1eb-aa0994a1d093"
      },
      "id": "2teet-jPQ-Gr",
      "execution_count": 41,
      "outputs": [
        {
          "output_type": "execute_result",
          "data": {
            "text/plain": [
              "<matplotlib.axes._subplots.AxesSubplot at 0x7ffa909c86d0>"
            ]
          },
          "metadata": {},
          "execution_count": 41
        },
        {
          "output_type": "display_data",
          "data": {
            "text/plain": [
              "<Figure size 720x720 with 2 Axes>"
            ],
            "image/png": "[encoded data removed]"
          },
          "metadata": {
            "needs_background": "light"
          }
        }
      ]
    },
    {
      "cell_type": "markdown",
      "source": [
        "Model parameter tuning"
      ],
      "metadata": {
        "id": "Q680lFKESYcQ"
      },
      "id": "Q680lFKESYcQ"
    },
    {
      "cell_type": "code",
      "source": [
        "def evaluation(labelsAndPreds):\n",
        "    tp = labelsAndPreds.filter(lambda lp: lp[0] == 1.0 and lp[1] == 1).count()\n",
        "    fn = labelsAndPreds.filter(lambda lp: lp[0] == 1.0 and lp[1] == 0).count()\n",
        "    fp = labelsAndPreds.filter(lambda lp: lp[0] == 0.0 and lp[1] == 1).count()\n",
        "    tn = labelsAndPreds.filter(lambda lp: lp[0] == 0.0 and lp[1] == 0).count()\n",
        "    #a = labelsAndPreds.filter(lambda lp: lp[0] == 0.0).count()\n",
        "    #b = labelsAndPreds.filter(lambda lp: lp[0] == 1.0).count()\n",
        "    p = tp + fn\n",
        "    n = fp + tn\n",
        "    #print(tp)\n",
        "    #print(fn)\n",
        "    #print(fp)\n",
        "    #print(tn)\n",
        "    acc = (tp+tn)/(p+n)\n",
        "    if tp+fp != 0 : precision = tp/(tp+fp)\n",
        "    else: precision = 0\n",
        "    recall = tp/p\n",
        "    F1_score = 2*tp/(2*tp+fp+fn)\n",
        "    return tp,fn,fp,tn,acc,precision,recall,F1_score"
      ],
      "metadata": {
        "id": "09aDnGV9ZuhB"
      },
      "id": "09aDnGV9ZuhB",
      "execution_count": 42,
      "outputs": []
    },
    {
      "cell_type": "code",
      "source": [
        "## 创建trainEvaluateModel函数包含训练与评估功能，并计算训练评估的时间。\n",
        "from time import time\n",
        "\n",
        "def trainEvaluateModel(trainData1, testingData1, iterations, step):\n",
        "    startTime = time()\n",
        "    ## Model build\n",
        "    modelSVM1 = SVMWithSGD.train(trainData1, iterations=iterations, step=step)\n",
        "    ## Performing the prediction and evaluation\n",
        "    labelsAndPreds = testingData1.map(lambda p: (p.label, modelSVM1.predict(p.features)))\n",
        "    tp,fn,fp,tn,acc,precision,recall,F1_score = evaluation(labelsAndPreds)\n",
        "    #accuracy = ModelAccuracy(Model, validationData)\n",
        "\n",
        "    duration = time() - startTime   # 持续时间\n",
        "    print(\"parameter: \"+\"iterations=\"+str(iterations) + \n",
        "         \",  step=\"+str(step)+\"\\n\"+\n",
        "         \"===>time=\"+str(duration)+\", accuracy=\"+str(acc)+\", precision=\"+str(precision)+\", recall=\"+str(recall)+\", F1_score=\"+str(F1_score))\n",
        "    return acc, duration, precision,recall,F1_score, iterations, step, modelSVM\n"
      ],
      "metadata": {
        "id": "U70mWITwSRTE"
      },
      "id": "U70mWITwSRTE",
      "execution_count": 43,
      "outputs": []
    },
    {
      "cell_type": "code",
      "source": [
        "## Define the function gridSearch to search for the best combination of parameters\n",
        "## parameter combination\n",
        "iterationsList = [10,100,1000,10000] \n",
        "stepList = [0.01, 0.1, 1, 10]\n",
        "def gridSearch(trainData, testingData, iterationsList, stepList):\n",
        "    metrics = [trainEvaluateModel(trainData, testingData,iterations, step)\n",
        "          for iterations in iterationsList\n",
        "          for step in stepList]\n",
        "    # Sort according to F1_score from large to small, and return the parameter combination with the maximum F1_score\n",
        "    sorted_metics = sorted(metrics, key=lambda k:k[4], reverse=True)\n",
        "    best_parameters = sorted_metics[0]\n",
        "    print(\"\\nbest parameter combination：\"+\"iterations = \"+str(best_parameters[5]) + \n",
        "         \", step=\"+str( best_parameters[6])+\"\\n\"+ \"F1_score=\"+str( best_parameters[4]))\n",
        "    return  best_parameters\n",
        "\n",
        "\n",
        "\n",
        "## best combination of parameters\n",
        "best_parameters = gridSearch(trainingData, testingData, iterationsList, stepList)"
      ],
      "metadata": {
        "id": "_IhV-wASLC4v"
      },
      "id": "_IhV-wASLC4v",
      "execution_count": 44,
      "outputs": []
    }
  ],
  "metadata": {
    "kernelspec": {
      "display_name": "Python 3",
      "language": "python",
      "name": "python3"
    },
    "language_info": {
      "codemirror_mode": {
        "name": "ipython",
        "version": 3
      },
      "file_extension": ".py",
      "mimetype": "text/x-python",
      "name": "python",
      "nbconvert_exporter": "python",
      "pygments_lexer": "ipython3",
      "version": "3.7.9"
    },
    "toc": {
      "base_numbering": 1,
      "nav_menu": {},
      "number_sections": true,
      "sideBar": true,
      "skip_h1_title": false,
      "title_cell": "Table of Contents",
      "title_sidebar": "Contents",
      "toc_cell": false,
      "toc_position": {},
      "toc_section_display": true,
      "toc_window_display": false
    },
    "colab": {
      "provenance": [],
      "toc_visible": true,
      "collapsed_sections": [],
      "include_colab_link": true
    }
  },
  "nbformat": 4,
  "nbformat_minor": 5
}