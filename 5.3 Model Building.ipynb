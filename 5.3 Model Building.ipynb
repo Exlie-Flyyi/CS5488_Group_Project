{
 "cells": [
  {
   "cell_type": "markdown",
   "id": "1822b9d2",
   "metadata": {},
   "source": [
    "# TF-IDF using sklearn"
   ]
  },
  {
   "cell_type": "code",
   "execution_count": 41,
   "id": "c301c736",
   "metadata": {},
   "outputs": [],
   "source": [
    "import nltk\n",
    "from nltk.corpus import stopwords\n",
    "from nltk.tokenize import word_tokenize\n",
    "from nltk.stem import WordNetLemmatizer\n",
    "import time\n",
    "import string\n",
    "import pandas as pd\n",
    "import numpy as np\n",
    "from sklearn.feature_extraction.text import CountVectorizer  \n",
    "from sklearn.feature_extraction.text import TfidfTransformer "
   ]
  },
  {
   "cell_type": "code",
   "execution_count": 18,
   "id": "49b0082e",
   "metadata": {},
   "outputs": [],
   "source": [
    "def text_process(text):\n",
    "    if type(text)!=str:\n",
    "        return ''\n",
    "    res = []\n",
    "    tokenizer = nltk.tokenize.RegexpTokenizer(r'\\w+')\n",
    "    tokens = tokenizer.tokenize(text)\n",
    "    english_stopwords = stopwords.words('english')\n",
    "    tokens = [word for word in tokens if word not in (english_stopwords)]\n",
    "    return tokens\n",
    "data = pd.read_csv('fake_job_postings_imputed_text_cleaned.csv')\n",
    "data['text'] = data['c_requirements']+' '+data['c_title']+' '+data['c_company_profile']+' '+data['c_benefits']+' '+data['c_description']\n",
    "data['text_process'] = data['text'].apply(lambda x: \" \".join(text_process(x)))"
   ]
  },
  {
   "cell_type": "code",
   "execution_count": null,
   "id": "16b1b964",
   "metadata": {},
   "outputs": [],
   "source": [
    "from sklearn.feature_extraction.text import CountVectorizer  \n",
    "from sklearn.feature_extraction.text import TfidfTransformer \n",
    "corpus = data['text_process'].tolist()\n",
    "vectorizer = CountVectorizer()  \n",
    "X = vectorizer.fit_transform(corpus)  \n",
    "word = vectorizer.get_feature_names_out()  \n",
    "transformer = TfidfTransformer()   \n",
    "tfidf = transformer.fit_transform(X)  "
   ]
  },
  {
   "cell_type": "code",
   "execution_count": 20,
   "id": "2536672e",
   "metadata": {},
   "outputs": [
    {
     "data": {
      "text/plain": [
       "(17496, 11992)"
      ]
     },
     "execution_count": 20,
     "metadata": {},
     "output_type": "execute_result"
    }
   ],
   "source": [
    "tfidf.shape"
   ]
  },
  {
   "cell_type": "markdown",
   "id": "35160673",
   "metadata": {},
   "source": [
    "# TF-IDF using Hadoop"
   ]
  },
  {
   "cell_type": "code",
   "execution_count": 42,
   "id": "736c5497",
   "metadata": {},
   "outputs": [],
   "source": [
    "text = data.loc[:,['text_process']]\n",
    "text.to_csv('text.txt',sep = '\\t', header = None)"
   ]
  },
  {
   "cell_type": "code",
   "execution_count": 43,
   "id": "3472c9ee",
   "metadata": {},
   "outputs": [
    {
     "data": {
      "text/html": [
       "<div>\n",
       "<style scoped>\n",
       "    .dataframe tbody tr th:only-of-type {\n",
       "        vertical-align: middle;\n",
       "    }\n",
       "\n",
       "    .dataframe tbody tr th {\n",
       "        vertical-align: top;\n",
       "    }\n",
       "\n",
       "    .dataframe thead th {\n",
       "        text-align: right;\n",
       "    }\n",
       "</style>\n",
       "<table border=\"1\" class=\"dataframe\">\n",
       "  <thead>\n",
       "    <tr style=\"text-align: right;\">\n",
       "      <th></th>\n",
       "      <th>text_process</th>\n",
       "    </tr>\n",
       "  </thead>\n",
       "  <tbody>\n",
       "    <tr>\n",
       "      <th>0</th>\n",
       "      <td></td>\n",
       "    </tr>\n",
       "    <tr>\n",
       "      <th>1</th>\n",
       "      <td>expect key responsibility communicate client t...</td>\n",
       "    </tr>\n",
       "    <tr>\n",
       "      <th>2</th>\n",
       "      <td></td>\n",
       "    </tr>\n",
       "    <tr>\n",
       "      <th>3</th>\n",
       "      <td>education bachelor master business administrat...</td>\n",
       "    </tr>\n",
       "    <tr>\n",
       "      <th>4</th>\n",
       "      <td>rn license state science nursing managerial ex...</td>\n",
       "    </tr>\n",
       "    <tr>\n",
       "      <th>...</th>\n",
       "      <td>...</td>\n",
       "    </tr>\n",
       "    <tr>\n",
       "      <th>17491</th>\n",
       "      <td>ace role eat comprehensive work working enterp...</td>\n",
       "    </tr>\n",
       "    <tr>\n",
       "      <th>17492</th>\n",
       "      <td>b b accounting desire fun love genuine passion...</td>\n",
       "    </tr>\n",
       "    <tr>\n",
       "      <th>17493</th>\n",
       "      <td></td>\n",
       "    </tr>\n",
       "    <tr>\n",
       "      <th>17494</th>\n",
       "      <td></td>\n",
       "    </tr>\n",
       "    <tr>\n",
       "      <th>17495</th>\n",
       "      <td></td>\n",
       "    </tr>\n",
       "  </tbody>\n",
       "</table>\n",
       "<p>17496 rows × 1 columns</p>\n",
       "</div>"
      ],
      "text/plain": [
       "                                            text_process\n",
       "0                                                       \n",
       "1      expect key responsibility communicate client t...\n",
       "2                                                       \n",
       "3      education bachelor master business administrat...\n",
       "4      rn license state science nursing managerial ex...\n",
       "...                                                  ...\n",
       "17491  ace role eat comprehensive work working enterp...\n",
       "17492  b b accounting desire fun love genuine passion...\n",
       "17493                                                   \n",
       "17494                                                   \n",
       "17495                                                   \n",
       "\n",
       "[17496 rows x 1 columns]"
      ]
     },
     "execution_count": 43,
     "metadata": {},
     "output_type": "execute_result"
    }
   ],
   "source": [
    "text"
   ]
  },
  {
   "cell_type": "code",
   "execution_count": 44,
   "id": "15208f76",
   "metadata": {},
   "outputs": [
    {
     "data": {
      "text/html": [
       "<div>\n",
       "<style scoped>\n",
       "    .dataframe tbody tr th:only-of-type {\n",
       "        vertical-align: middle;\n",
       "    }\n",
       "\n",
       "    .dataframe tbody tr th {\n",
       "        vertical-align: top;\n",
       "    }\n",
       "\n",
       "    .dataframe thead th {\n",
       "        text-align: right;\n",
       "    }\n",
       "</style>\n",
       "<table border=\"1\" class=\"dataframe\">\n",
       "  <thead>\n",
       "    <tr style=\"text-align: right;\">\n",
       "      <th></th>\n",
       "      <th>0</th>\n",
       "      <th>1</th>\n",
       "    </tr>\n",
       "  </thead>\n",
       "  <tbody>\n",
       "    <tr>\n",
       "      <th>0</th>\n",
       "      <td>aa_10492</td>\n",
       "      <td>1</td>\n",
       "    </tr>\n",
       "    <tr>\n",
       "      <th>1</th>\n",
       "      <td>aa_10577</td>\n",
       "      <td>1</td>\n",
       "    </tr>\n",
       "    <tr>\n",
       "      <th>2</th>\n",
       "      <td>aa_10663</td>\n",
       "      <td>1</td>\n",
       "    </tr>\n",
       "    <tr>\n",
       "      <th>3</th>\n",
       "      <td>aa_10736</td>\n",
       "      <td>1</td>\n",
       "    </tr>\n",
       "    <tr>\n",
       "      <th>4</th>\n",
       "      <td>aa_10742</td>\n",
       "      <td>1</td>\n",
       "    </tr>\n",
       "    <tr>\n",
       "      <th>...</th>\n",
       "      <td>...</td>\n",
       "      <td>...</td>\n",
       "    </tr>\n",
       "    <tr>\n",
       "      <th>3110334</th>\n",
       "      <td>ﬁnd_12302</td>\n",
       "      <td>2</td>\n",
       "    </tr>\n",
       "    <tr>\n",
       "      <th>3110335</th>\n",
       "      <td>ﬁnd_14841</td>\n",
       "      <td>2</td>\n",
       "    </tr>\n",
       "    <tr>\n",
       "      <th>3110336</th>\n",
       "      <td>ﬁnd_233</td>\n",
       "      <td>1</td>\n",
       "    </tr>\n",
       "    <tr>\n",
       "      <th>3110337</th>\n",
       "      <td>ﬁnd_2345</td>\n",
       "      <td>1</td>\n",
       "    </tr>\n",
       "    <tr>\n",
       "      <th>3110338</th>\n",
       "      <td>ﬂexible_12723</td>\n",
       "      <td>1</td>\n",
       "    </tr>\n",
       "  </tbody>\n",
       "</table>\n",
       "<p>3110339 rows × 2 columns</p>\n",
       "</div>"
      ],
      "text/plain": [
       "                     0  1\n",
       "0             aa_10492  1\n",
       "1             aa_10577  1\n",
       "2             aa_10663  1\n",
       "3             aa_10736  1\n",
       "4             aa_10742  1\n",
       "...                ... ..\n",
       "3110334      ﬁnd_12302  2\n",
       "3110335      ﬁnd_14841  2\n",
       "3110336        ﬁnd_233  1\n",
       "3110337       ﬁnd_2345  1\n",
       "3110338  ﬂexible_12723  1\n",
       "\n",
       "[3110339 rows x 2 columns]"
      ]
     },
     "execution_count": 44,
     "metadata": {},
     "output_type": "execute_result"
    }
   ],
   "source": [
    "output1_path = \"TFIDF_Hadoop/output1/part-r-00000\"\n",
    "pd.read_csv(output1_path,sep='\\t',header = None)"
   ]
  },
  {
   "cell_type": "code",
   "execution_count": 45,
   "id": "0794b1f9",
   "metadata": {},
   "outputs": [
    {
     "data": {
      "text/html": [
       "<div>\n",
       "<style scoped>\n",
       "    .dataframe tbody tr th:only-of-type {\n",
       "        vertical-align: middle;\n",
       "    }\n",
       "\n",
       "    .dataframe tbody tr th {\n",
       "        vertical-align: top;\n",
       "    }\n",
       "\n",
       "    .dataframe thead th {\n",
       "        text-align: right;\n",
       "    }\n",
       "</style>\n",
       "<table border=\"1\" class=\"dataframe\">\n",
       "  <thead>\n",
       "    <tr style=\"text-align: right;\">\n",
       "      <th></th>\n",
       "      <th>0</th>\n",
       "      <th>1</th>\n",
       "    </tr>\n",
       "  </thead>\n",
       "  <tbody>\n",
       "    <tr>\n",
       "      <th>0</th>\n",
       "      <td>pr_0</td>\n",
       "      <td>1/256</td>\n",
       "    </tr>\n",
       "    <tr>\n",
       "      <th>1</th>\n",
       "      <td>professional_0</td>\n",
       "      <td>1/256</td>\n",
       "    </tr>\n",
       "    <tr>\n",
       "      <th>2</th>\n",
       "      <td>offer_0</td>\n",
       "      <td>1/256</td>\n",
       "    </tr>\n",
       "    <tr>\n",
       "      <th>3</th>\n",
       "      <td>themcheerful_0</td>\n",
       "      <td>1/256</td>\n",
       "    </tr>\n",
       "    <tr>\n",
       "      <th>4</th>\n",
       "      <td>juggler_0</td>\n",
       "      <td>1/256</td>\n",
       "    </tr>\n",
       "    <tr>\n",
       "      <th>...</th>\n",
       "      <td>...</td>\n",
       "      <td>...</td>\n",
       "    </tr>\n",
       "    <tr>\n",
       "      <th>3110334</th>\n",
       "      <td>independently_9999</td>\n",
       "      <td>2/598</td>\n",
       "    </tr>\n",
       "    <tr>\n",
       "      <th>3110335</th>\n",
       "      <td>growth_9999</td>\n",
       "      <td>1/598</td>\n",
       "    </tr>\n",
       "    <tr>\n",
       "      <th>3110336</th>\n",
       "      <td>pm_9999</td>\n",
       "      <td>2/598</td>\n",
       "    </tr>\n",
       "    <tr>\n",
       "      <th>3110337</th>\n",
       "      <td>apartment_9999</td>\n",
       "      <td>1/598</td>\n",
       "    </tr>\n",
       "    <tr>\n",
       "      <th>3110338</th>\n",
       "      <td>customer_9999</td>\n",
       "      <td>8/598</td>\n",
       "    </tr>\n",
       "  </tbody>\n",
       "</table>\n",
       "<p>3110339 rows × 2 columns</p>\n",
       "</div>"
      ],
      "text/plain": [
       "                          0      1\n",
       "0                      pr_0  1/256\n",
       "1            professional_0  1/256\n",
       "2                   offer_0  1/256\n",
       "3            themcheerful_0  1/256\n",
       "4                 juggler_0  1/256\n",
       "...                     ...    ...\n",
       "3110334  independently_9999  2/598\n",
       "3110335         growth_9999  1/598\n",
       "3110336             pm_9999  2/598\n",
       "3110337      apartment_9999  1/598\n",
       "3110338       customer_9999  8/598\n",
       "\n",
       "[3110339 rows x 2 columns]"
      ]
     },
     "execution_count": 45,
     "metadata": {},
     "output_type": "execute_result"
    }
   ],
   "source": [
    "output2_path = \"TFIDF_Hadoop/output2/part-r-00000\"\n",
    "pd.read_csv(output2_path,sep='\\t',header = None)"
   ]
  },
  {
   "cell_type": "code",
   "execution_count": 46,
   "id": "eccc5e0c",
   "metadata": {},
   "outputs": [
    {
     "data": {
      "text/html": [
       "<div>\n",
       "<style scoped>\n",
       "    .dataframe tbody tr th:only-of-type {\n",
       "        vertical-align: middle;\n",
       "    }\n",
       "\n",
       "    .dataframe tbody tr th {\n",
       "        vertical-align: top;\n",
       "    }\n",
       "\n",
       "    .dataframe thead th {\n",
       "        text-align: right;\n",
       "    }\n",
       "</style>\n",
       "<table border=\"1\" class=\"dataframe\">\n",
       "  <thead>\n",
       "    <tr style=\"text-align: right;\">\n",
       "      <th></th>\n",
       "      <th>0</th>\n",
       "      <th>1</th>\n",
       "    </tr>\n",
       "  </thead>\n",
       "  <tbody>\n",
       "    <tr>\n",
       "      <th>0</th>\n",
       "      <td>aa@8013</td>\n",
       "      <td>0.005225</td>\n",
       "    </tr>\n",
       "    <tr>\n",
       "      <th>1</th>\n",
       "      <td>aa@6632</td>\n",
       "      <td>0.005069</td>\n",
       "    </tr>\n",
       "    <tr>\n",
       "      <th>2</th>\n",
       "      <td>aa@6995</td>\n",
       "      <td>0.009187</td>\n",
       "    </tr>\n",
       "    <tr>\n",
       "      <th>3</th>\n",
       "      <td>aa@14099</td>\n",
       "      <td>0.008836</td>\n",
       "    </tr>\n",
       "    <tr>\n",
       "      <th>4</th>\n",
       "      <td>aa@10492</td>\n",
       "      <td>0.003467</td>\n",
       "    </tr>\n",
       "    <tr>\n",
       "      <th>...</th>\n",
       "      <td>...</td>\n",
       "      <td>...</td>\n",
       "    </tr>\n",
       "    <tr>\n",
       "      <th>3110334</th>\n",
       "      <td>ﬁnd@233</td>\n",
       "      <td>0.008860</td>\n",
       "    </tr>\n",
       "    <tr>\n",
       "      <th>3110335</th>\n",
       "      <td>ﬁnd@2345</td>\n",
       "      <td>0.007669</td>\n",
       "    </tr>\n",
       "    <tr>\n",
       "      <th>3110336</th>\n",
       "      <td>ﬁnd@14841</td>\n",
       "      <td>0.020799</td>\n",
       "    </tr>\n",
       "    <tr>\n",
       "      <th>3110337</th>\n",
       "      <td>ﬁnd@12302</td>\n",
       "      <td>0.020507</td>\n",
       "    </tr>\n",
       "    <tr>\n",
       "      <th>3110338</th>\n",
       "      <td>ﬂexible@12723</td>\n",
       "      <td>0.013586</td>\n",
       "    </tr>\n",
       "  </tbody>\n",
       "</table>\n",
       "<p>3110339 rows × 2 columns</p>\n",
       "</div>"
      ],
      "text/plain": [
       "                     0         1\n",
       "0              aa@8013  0.005225\n",
       "1              aa@6632  0.005069\n",
       "2              aa@6995  0.009187\n",
       "3             aa@14099  0.008836\n",
       "4             aa@10492  0.003467\n",
       "...                ...       ...\n",
       "3110334        ﬁnd@233  0.008860\n",
       "3110335       ﬁnd@2345  0.007669\n",
       "3110336      ﬁnd@14841  0.020799\n",
       "3110337      ﬁnd@12302  0.020507\n",
       "3110338  ﬂexible@12723  0.013586\n",
       "\n",
       "[3110339 rows x 2 columns]"
      ]
     },
     "execution_count": 46,
     "metadata": {},
     "output_type": "execute_result"
    }
   ],
   "source": [
    "output3_path = \"TFIDF_Hadoop/output3/part-r-00000\"\n",
    "pd.read_csv(output3_path,sep='\\t',header = None)"
   ]
  },
  {
   "cell_type": "markdown",
   "id": "441a6450",
   "metadata": {},
   "source": [
    "# random forest"
   ]
  },
  {
   "cell_type": "code",
   "execution_count": 1,
   "id": "50b03d44",
   "metadata": {},
   "outputs": [],
   "source": [
    "import nltk\n",
    "from nltk.corpus import stopwords\n",
    "from nltk.tokenize import word_tokenize\n",
    "from nltk.stem import WordNetLemmatizer\n",
    "import time\n",
    "import string\n",
    "import pandas as pd\n",
    "import numpy as np\n",
    "from sklearn.feature_extraction.text import CountVectorizer  \n",
    "from sklearn.feature_extraction.text import TfidfTransformer "
   ]
  },
  {
   "cell_type": "code",
   "execution_count": 2,
   "id": "d78d36a5",
   "metadata": {},
   "outputs": [
    {
     "name": "stdout",
     "output_type": "stream",
     "text": [
      "Running time with sklearn: 1.6651 s\n"
     ]
    }
   ],
   "source": [
    "def text_process(text):\n",
    "    if type(text)!=str:\n",
    "        return ''\n",
    "    res = []\n",
    "    tokenizer = nltk.tokenize.RegexpTokenizer(r'\\w+')\n",
    "    tokens = tokenizer.tokenize(text)\n",
    "    english_stopwords = stopwords.words('english')\n",
    "    tokens = [word for word in tokens if word not in (english_stopwords)]\n",
    "    return tokens\n",
    "data = pd.read_csv('fake_job_postings_imputed_text_cleaned.csv')\n",
    "data['text'] = data['c_requirements']+' '+data['c_title']+' '+data['c_company_profile']+' '+data['c_benefits']+' '+data['c_description']\n",
    "data['text_process'] = data['text'].apply(lambda x: \" \".join(text_process(x)))\n",
    "\n",
    "from sklearn.feature_extraction.text import CountVectorizer  \n",
    "from sklearn.feature_extraction.text import TfidfTransformer \n",
    "start = time.time()\n",
    "corpus = data['text_process'].tolist()\n",
    "vectorizer = CountVectorizer()  \n",
    "X = vectorizer.fit_transform(corpus)  \n",
    "word = vectorizer.get_feature_names_out()  \n",
    "transformer = TfidfTransformer()   \n",
    "tfidf = transformer.fit_transform(X)  \n",
    "end = time.time()\n",
    "print('Running time with sklearn: {:.4f} s'.format(end-start))"
   ]
  },
  {
   "cell_type": "code",
   "execution_count": 4,
   "id": "d211d541",
   "metadata": {},
   "outputs": [],
   "source": [
    "from sklearn import svm\n",
    "from sklearn.datasets import make_classification\n",
    "from sklearn.model_selection import train_test_split\n",
    "from sklearn.metrics import classification_report,confusion_matrix,accuracy_score\n",
    "X_train, X_test, Y_train, Y_test = train_test_split(tfidf, data.fraudulent, test_size = 0.2, random_state = 0)"
   ]
  },
  {
   "cell_type": "code",
   "execution_count": 5,
   "id": "20bca3d4",
   "metadata": {},
   "outputs": [],
   "source": [
    "from sklearn.ensemble import RandomForestClassifier\n",
    "from sklearn.model_selection import cross_val_score\n",
    "\n",
    "rf = RandomForestClassifier()\n",
    "scores = cross_val_score(rf,X_train,Y_train.values.ravel(),cv=5)"
   ]
  },
  {
   "cell_type": "code",
   "execution_count": 27,
   "id": "b8fb89b2",
   "metadata": {},
   "outputs": [
    {
     "data": {
      "text/plain": [
       "array([0.95785714, 0.95569846, 0.95962844, 0.96141479, 0.95962844])"
      ]
     },
     "execution_count": 27,
     "metadata": {},
     "output_type": "execute_result"
    }
   ],
   "source": [
    "scores"
   ]
  },
  {
   "cell_type": "code",
   "execution_count": 28,
   "id": "08f038a1",
   "metadata": {},
   "outputs": [],
   "source": [
    "def print_results(results):\n",
    "    print('BEST PARAMS: {}\\n'.format(results.best_params_))\n",
    "\n",
    "    means = results.cv_results_['mean_test_score']\n",
    "    stds = results.cv_results_['std_test_score']\n",
    "    for mean, std, params in zip(means, stds, results.cv_results_['params']):\n",
    "        print('{} (+/-{}) for {}'.format(round(mean, 3), round(std * 2, 3), params))"
   ]
  },
  {
   "cell_type": "code",
   "execution_count": 32,
   "id": "63dc34c4",
   "metadata": {},
   "outputs": [
    {
     "name": "stdout",
     "output_type": "stream",
     "text": [
      "BEST PARAMS: {'n_estimators': 50}\n",
      "\n",
      "0.959 (+/-0.004) for {'n_estimators': 50}\n",
      "0.959 (+/-0.004) for {'n_estimators': 100}\n",
      "0.959 (+/-0.003) for {'n_estimators': 150}\n"
     ]
    }
   ],
   "source": [
    "from sklearn.model_selection import GridSearchCV\n",
    "\n",
    "rf = RandomForestClassifier()\n",
    "parameters = {\n",
    "    'n_estimators': [50,100,150],\n",
    "}\n",
    "\n",
    "cv = GridSearchCV(rf,parameters)\n",
    "cv.fit(X_train,Y_train.values.ravel())\n",
    "print_results(cv)"
   ]
  },
  {
   "cell_type": "code",
   "execution_count": 35,
   "id": "45fa7a63",
   "metadata": {},
   "outputs": [
    {
     "data": {
      "text/plain": [
       "{'mean_fit_time': array([ 4.60545697,  9.32118998, 16.49069624]),\n",
       " 'std_fit_time': array([0.12972576, 0.16909102, 4.02046613]),\n",
       " 'mean_score_time': array([0.06251812, 0.1258853 , 0.28236713]),\n",
       " 'std_score_time': array([0.00262702, 0.02100783, 0.15562832]),\n",
       " 'param_n_estimators': masked_array(data=[50, 100, 150],\n",
       "              mask=[False, False, False],\n",
       "        fill_value='?',\n",
       "             dtype=object),\n",
       " 'params': [{'n_estimators': 50},\n",
       "  {'n_estimators': 100},\n",
       "  {'n_estimators': 150}],\n",
       " 'split0_test_score': array([0.95785714, 0.95821429, 0.95785714]),\n",
       " 'split1_test_score': array([0.95677028, 0.95677028, 0.956413  ]),\n",
       " 'split2_test_score': array([0.9589139 , 0.95819936, 0.95927117]),\n",
       " 'split3_test_score': array([0.96212933, 0.96212933, 0.96141479]),\n",
       " 'split4_test_score': array([0.95962844, 0.95962844, 0.95962844]),\n",
       " 'mean_test_score': array([0.95905982, 0.95898834, 0.95891691]),\n",
       " 'std_test_score': array([0.00181411, 0.00181202, 0.00168901]),\n",
       " 'rank_test_score': array([1, 2, 3])}"
      ]
     },
     "execution_count": 35,
     "metadata": {},
     "output_type": "execute_result"
    }
   ],
   "source": [
    "cv.cv_results_"
   ]
  },
  {
   "cell_type": "code",
   "execution_count": 33,
   "id": "71a67c63",
   "metadata": {},
   "outputs": [
    {
     "data": {
      "text/html": [
       "<style>#sk-container-id-5 {color: black;background-color: white;}#sk-container-id-5 pre{padding: 0;}#sk-container-id-5 div.sk-toggleable {background-color: white;}#sk-container-id-5 label.sk-toggleable__label {cursor: pointer;display: block;width: 100%;margin-bottom: 0;padding: 0.3em;box-sizing: border-box;text-align: center;}#sk-container-id-5 label.sk-toggleable__label-arrow:before {content: \"▸\";float: left;margin-right: 0.25em;color: #696969;}#sk-container-id-5 label.sk-toggleable__label-arrow:hover:before {color: black;}#sk-container-id-5 div.sk-estimator:hover label.sk-toggleable__label-arrow:before {color: black;}#sk-container-id-5 div.sk-toggleable__content {max-height: 0;max-width: 0;overflow: hidden;text-align: left;background-color: #f0f8ff;}#sk-container-id-5 div.sk-toggleable__content pre {margin: 0.2em;color: black;border-radius: 0.25em;background-color: #f0f8ff;}#sk-container-id-5 input.sk-toggleable__control:checked~div.sk-toggleable__content {max-height: 200px;max-width: 100%;overflow: auto;}#sk-container-id-5 input.sk-toggleable__control:checked~label.sk-toggleable__label-arrow:before {content: \"▾\";}#sk-container-id-5 div.sk-estimator input.sk-toggleable__control:checked~label.sk-toggleable__label {background-color: #d4ebff;}#sk-container-id-5 div.sk-label input.sk-toggleable__control:checked~label.sk-toggleable__label {background-color: #d4ebff;}#sk-container-id-5 input.sk-hidden--visually {border: 0;clip: rect(1px 1px 1px 1px);clip: rect(1px, 1px, 1px, 1px);height: 1px;margin: -1px;overflow: hidden;padding: 0;position: absolute;width: 1px;}#sk-container-id-5 div.sk-estimator {font-family: monospace;background-color: #f0f8ff;border: 1px dotted black;border-radius: 0.25em;box-sizing: border-box;margin-bottom: 0.5em;}#sk-container-id-5 div.sk-estimator:hover {background-color: #d4ebff;}#sk-container-id-5 div.sk-parallel-item::after {content: \"\";width: 100%;border-bottom: 1px solid gray;flex-grow: 1;}#sk-container-id-5 div.sk-label:hover label.sk-toggleable__label {background-color: #d4ebff;}#sk-container-id-5 div.sk-serial::before {content: \"\";position: absolute;border-left: 1px solid gray;box-sizing: border-box;top: 0;bottom: 0;left: 50%;z-index: 0;}#sk-container-id-5 div.sk-serial {display: flex;flex-direction: column;align-items: center;background-color: white;padding-right: 0.2em;padding-left: 0.2em;position: relative;}#sk-container-id-5 div.sk-item {position: relative;z-index: 1;}#sk-container-id-5 div.sk-parallel {display: flex;align-items: stretch;justify-content: center;background-color: white;position: relative;}#sk-container-id-5 div.sk-item::before, #sk-container-id-5 div.sk-parallel-item::before {content: \"\";position: absolute;border-left: 1px solid gray;box-sizing: border-box;top: 0;bottom: 0;left: 50%;z-index: -1;}#sk-container-id-5 div.sk-parallel-item {display: flex;flex-direction: column;z-index: 1;position: relative;background-color: white;}#sk-container-id-5 div.sk-parallel-item:first-child::after {align-self: flex-end;width: 50%;}#sk-container-id-5 div.sk-parallel-item:last-child::after {align-self: flex-start;width: 50%;}#sk-container-id-5 div.sk-parallel-item:only-child::after {width: 0;}#sk-container-id-5 div.sk-dashed-wrapped {border: 1px dashed gray;margin: 0 0.4em 0.5em 0.4em;box-sizing: border-box;padding-bottom: 0.4em;background-color: white;}#sk-container-id-5 div.sk-label label {font-family: monospace;font-weight: bold;display: inline-block;line-height: 1.2em;}#sk-container-id-5 div.sk-label-container {text-align: center;}#sk-container-id-5 div.sk-container {/* jupyter's `normalize.less` sets `[hidden] { display: none; }` but bootstrap.min.css set `[hidden] { display: none !important; }` so we also need the `!important` here to be able to override the default hidden behavior on the sphinx rendered scikit-learn.org. See: https://github.com/scikit-learn/scikit-learn/issues/21755 */display: inline-block !important;position: relative;}#sk-container-id-5 div.sk-text-repr-fallback {display: none;}</style><div id=\"sk-container-id-5\" class=\"sk-top-container\"><div class=\"sk-text-repr-fallback\"><pre>RandomForestClassifier()</pre><b>In a Jupyter environment, please rerun this cell to show the HTML representation or trust the notebook. <br />On GitHub, the HTML representation is unable to render, please try loading this page with nbviewer.org.</b></div><div class=\"sk-container\" hidden><div class=\"sk-item\"><div class=\"sk-estimator sk-toggleable\"><input class=\"sk-toggleable__control sk-hidden--visually\" id=\"sk-estimator-id-5\" type=\"checkbox\" checked><label for=\"sk-estimator-id-5\" class=\"sk-toggleable__label sk-toggleable__label-arrow\">RandomForestClassifier</label><div class=\"sk-toggleable__content\"><pre>RandomForestClassifier()</pre></div></div></div></div></div>"
      ],
      "text/plain": [
       "RandomForestClassifier()"
      ]
     },
     "execution_count": 33,
     "metadata": {},
     "output_type": "execute_result"
    }
   ],
   "source": [
    "from sklearn.ensemble import RandomForestClassifier\n",
    "forest = RandomForestClassifier()\n",
    "forest.fit(X_train, Y_train)"
   ]
  },
  {
   "cell_type": "code",
   "execution_count": 34,
   "id": "8e4e24af",
   "metadata": {},
   "outputs": [
    {
     "data": {
      "text/plain": [
       "0.9645714285714285"
      ]
     },
     "execution_count": 34,
     "metadata": {},
     "output_type": "execute_result"
    }
   ],
   "source": [
    "Y_predict = forest.predict(X_test)\n",
    "accuracy_score(Y_test, Y_predict)"
   ]
  },
  {
   "cell_type": "code",
   "execution_count": 35,
   "id": "a4998152",
   "metadata": {},
   "outputs": [
    {
     "name": "stdout",
     "output_type": "stream",
     "text": [
      "              precision    recall  f1-score   support\n",
      "\n",
      "           0       0.96      1.00      0.98      3351\n",
      "           1       1.00      0.17      0.29       149\n",
      "\n",
      "    accuracy                           0.96      3500\n",
      "   macro avg       0.98      0.58      0.63      3500\n",
      "weighted avg       0.97      0.96      0.95      3500\n",
      "\n"
     ]
    }
   ],
   "source": [
    "print(classification_report(Y_test,Y_predict,target_names = ['0','1']))"
   ]
  },
  {
   "cell_type": "code",
   "execution_count": 36,
   "id": "58e1a77a",
   "metadata": {},
   "outputs": [
    {
     "name": "stdout",
     "output_type": "stream",
     "text": [
      "Elapsed time to compute the importances: 0.040 seconds\n"
     ]
    }
   ],
   "source": [
    "import time\n",
    "import numpy as np\n",
    "\n",
    "start_time = time.time()\n",
    "importances = forest.feature_importances_\n",
    "std = np.std([tree.feature_importances_ for tree in forest.estimators_], axis=0)\n",
    "elapsed_time = time.time() - start_time\n",
    "\n",
    "print(f\"Elapsed time to compute the importances: {elapsed_time:.3f} seconds\")"
   ]
  },
  {
   "cell_type": "code",
   "execution_count": 37,
   "id": "eccfc204",
   "metadata": {},
   "outputs": [],
   "source": [
    "import pandas as pd\n",
    "import matplotlib.pyplot as plt\n",
    "\n",
    "forest_importances = pd.Series(importances, index=word)\n",
    "forest_importances=forest_importances.sort_values(ascending = False)[:30]"
   ]
  },
  {
   "cell_type": "code",
   "execution_count": 38,
   "id": "0b41a77d",
   "metadata": {},
   "outputs": [
    {
     "data": {
      "text/plain": [
       "refined           0.013059\n",
       "signing           0.009520\n",
       "encouraged        0.009016\n",
       "petroleum         0.008767\n",
       "referral          0.007916\n",
       "financing         0.007522\n",
       "novation          0.007238\n",
       "experience        0.007044\n",
       "team              0.006952\n",
       "scientifically    0.006408\n",
       "oak               0.006354\n",
       "wheel             0.005811\n",
       "town              0.005483\n",
       "gas               0.005071\n",
       "unmatched         0.005036\n",
       "tree              0.005030\n",
       "bonus             0.004896\n",
       "intellect         0.004758\n",
       "purchasing        0.004593\n",
       "affiliation       0.004205\n",
       "time              0.004151\n",
       "oil               0.004087\n",
       "hired             0.004062\n",
       "cartwright        0.004027\n",
       "paired            0.003889\n",
       "year              0.003874\n",
       "medium            0.003835\n",
       "duplex            0.003803\n",
       "represented       0.003795\n",
       "yearly            0.003736\n",
       "dtype: float64"
      ]
     },
     "execution_count": 38,
     "metadata": {},
     "output_type": "execute_result"
    }
   ],
   "source": [
    "forest_importances"
   ]
  },
  {
   "cell_type": "code",
   "execution_count": 17,
   "id": "836eb69c",
   "metadata": {},
   "outputs": [
    {
     "data": {
      "image/png": "[encoded data removed]",
      "text/plain": [
       "<Figure size 720x720 with 1 Axes>"
      ]
     },
     "metadata": {
      "needs_background": "light"
     },
     "output_type": "display_data"
    }
   ],
   "source": [
    "forest_importances.nlargest(30).plot(kind='bar',figsize=(10,10))\n",
    "plt.title(\"Top 30 important words\")\n",
    "plt.show()"
   ]
  },
  {
   "cell_type": "code",
   "execution_count": 39,
   "id": "f4f80191",
   "metadata": {},
   "outputs": [
    {
     "data": {
      "image/png": "[encoded data removed]",
      "text/plain": [
       "<Figure size 900x600 with 1 Axes>"
      ]
     },
     "metadata": {
      "needs_background": "light"
     },
     "output_type": "display_data"
    }
   ],
   "source": [
    "fig, ax = plt.subplots(dpi=150)\n",
    "forest_importances.plot.bar(ax=ax)\n",
    "ax.set_title(\"Top 30 important words\")\n",
    "fig.tight_layout()"
   ]
  },
  {
   "cell_type": "code",
   "execution_count": null,
   "id": "06321973",
   "metadata": {},
   "outputs": [],
   "source": [
    "from sklearn.inspection import permutation_importance\n",
    "\n",
    "start_time = time.time()\n",
    "result = permutation_importance(forest, X_test.toarray(), Y_test, n_repeats=10, random_state=42, n_jobs=2)\n",
    "elapsed_time = time.time() - start_time\n",
    "print(f\"Elapsed time to compute the importances: {elapsed_time:.3f} seconds\")\n",
    "\n",
    "forest_importances = pd.Series(result.importances_mean, index=feature_names)"
   ]
  },
  {
   "cell_type": "code",
   "execution_count": 33,
   "id": "04b68763",
   "metadata": {},
   "outputs": [
    {
     "data": {
      "text/plain": [
       "11992"
      ]
     },
     "execution_count": 33,
     "metadata": {},
     "output_type": "execute_result"
    }
   ],
   "source": [
    "len(importances)"
   ]
  },
  {
   "cell_type": "code",
   "execution_count": 15,
   "id": "6a9131ac",
   "metadata": {},
   "outputs": [
    {
     "data": {
      "text/plain": [
       "0.9654285714285714"
      ]
     },
     "execution_count": 15,
     "metadata": {},
     "output_type": "execute_result"
    }
   ],
   "source": [
    "Y_predict = clf.predict(X_test)\n",
    "accuracy_score(Y_test, Y_predict)"
   ]
  },
  {
   "cell_type": "code",
   "execution_count": 23,
   "id": "e2cea877",
   "metadata": {},
   "outputs": [
    {
     "name": "stdout",
     "output_type": "stream",
     "text": [
      "              precision    recall  f1-score   support\n",
      "\n",
      "           0       0.97      1.00      0.98      3351\n",
      "           1       1.00      0.19      0.32       149\n",
      "\n",
      "    accuracy                           0.97      3500\n",
      "   macro avg       0.98      0.59      0.65      3500\n",
      "weighted avg       0.97      0.97      0.95      3500\n",
      "\n"
     ]
    }
   ],
   "source": [
    "print(classification_report(Y_test,Y_predict,target_names = ['0','1']))"
   ]
  },
  {
   "cell_type": "markdown",
   "id": "8f44e9df",
   "metadata": {},
   "source": [
    "Feature Importance"
   ]
  },
  {
   "cell_type": "code",
   "execution_count": null,
   "id": "77bd5b7d",
   "metadata": {},
   "outputs": [],
   "source": [
    "from sklearn.linear_model import RidgeCV\n",
    "\n",
    "model = RidgeCV()\n",
    "\n",
    "model.fit(X_train, Y_train)\n",
    "\n",
    "print(f'model score on training data: {model.score(X_train, y_train)}')\n",
    "print(f'model score on testing data: {model.score(X_test, y_test)}')"
   ]
  },
  {
   "cell_type": "code",
   "execution_count": null,
   "id": "53f98038",
   "metadata": {},
   "outputs": [],
   "source": [
    "coefs = pd.DataFrame(\n",
    "   model.coef_,\n",
    "   columns=['Coefficients'], index=X_train.columns\n",
    ")"
   ]
  }
 ],
 "metadata": {
  "kernelspec": {
   "display_name": "Python 3 (ipykernel)",
   "language": "python",
   "name": "python3"
  },
  "language_info": {
   "codemirror_mode": {
    "name": "ipython",
    "version": 3
   },
   "file_extension": ".py",
   "mimetype": "text/x-python",
   "name": "python",
   "nbconvert_exporter": "python",
   "pygments_lexer": "ipython3",
   "version": "3.8.12"
  }
 },
 "nbformat": 4,
 "nbformat_minor": 5
}
