{
 "cells": [
  {
   "cell_type": "markdown",
   "id": "1822b9d2",
   "metadata": {},
   "source": [
    "# TF-IDF using sklearn"
   ]
  },
  {
   "cell_type": "code",
   "execution_count": 6,
   "id": "c301c736",
   "metadata": {},
   "outputs": [],
   "source": [
    "import nltk\n",
    "from nltk.corpus import stopwords\n",
    "from nltk.tokenize import word_tokenize\n",
    "from nltk.stem import WordNetLemmatizer\n",
    "import time\n",
    "import string\n",
    "import pandas as pd\n",
    "import numpy as np"
   ]
  },
  {
   "cell_type": "code",
   "execution_count": 7,
   "id": "49b0082e",
   "metadata": {},
   "outputs": [],
   "source": [
    "def text_process(text):\n",
    "    if type(text)!=str:\n",
    "        return ''\n",
    "    res = []\n",
    "    tokenizer = nltk.tokenize.RegexpTokenizer(r'\\w+')\n",
    "    tokens = tokenizer.tokenize(text)\n",
    "    return tokens\n",
    "data = pd.read_csv('fake_job_postings_most_freq_text_cleaned.csv')\n",
    "data['text'] = data['c_requirements']+' '+data['c_title']+' '+data['c_company_profile']+' '+data['c_benefits']+' '+data['c_description']\n",
    "data['text_process'] = data['text'].apply(lambda x: \" \".join(text_process(x)))"
   ]
  },
  {
   "cell_type": "code",
   "execution_count": 8,
   "id": "a489e12e",
   "metadata": {},
   "outputs": [],
   "source": [
    "from sklearn.feature_extraction.text import CountVectorizer  \n",
    "from sklearn.feature_extraction.text import TfidfTransformer \n",
    "corpus = data['text_process'].tolist()\n",
    "vectorizer = CountVectorizer()  \n",
    "X = vectorizer.fit_transform(corpus)  \n",
    "word = vectorizer.get_feature_names_out()  \n",
    "transformer = TfidfTransformer()   \n",
    "tfidf = transformer.fit_transform(X)  "
   ]
  },
  {
   "cell_type": "code",
   "execution_count": 9,
   "id": "2536672e",
   "metadata": {},
   "outputs": [
    {
     "name": "stdout",
     "output_type": "stream",
     "text": [
      "96706\n",
      "(17880, 96706)\n"
     ]
    }
   ],
   "source": [
    "print(len(word))\n",
    "print(tfidf.shape)"
   ]
  },
  {
   "cell_type": "code",
   "execution_count": 10,
   "id": "14cdfaaf",
   "metadata": {},
   "outputs": [
    {
     "name": "stdout",
     "output_type": "stream",
     "text": [
      "['aandroid' 'aangeboden' 'aangedreven' 'aangepaste' 'aangevuld'\n",
      " 'aanmelden' 'aanp' 'aanpak' 'aanspreekpunt' 'aansprekende' 'aansturen'\n",
      " 'aantal' 'aantoonbaar' 'aantoonbare' 'aantrekkelijke' 'aanvang' 'aap'\n",
      " 'aapc' 'aapcsupervisory' 'aarhus' 'aarki' 'aarna' 'aaron' 'aart' 'aashto'\n",
      " 'aat' 'aatsome' 'ab' 'aba' 'abaadefbaddbaddfddceeada'\n",
      " 'abaafadccbecfcdbaebcb' 'ababdaedbdfeebfebbebeeb'\n",
      " 'ababddcafdeacdacebefdeef' 'abaeacacbebfdfdebcdddcccfeeafa'\n",
      " 'abaeaeadfbcbbefdbdfea' 'abaebddfdfbcdfcbacafdfecee'\n",
      " 'abaeceeacefdbebecfedcc' 'abafbeefcebacaafaadceeeecbad'\n",
      " 'abafcdfddefcebbfeadebcea' 'abakus' 'abandon' 'abandoned' 'abandoning'\n",
      " 'abandonment' 'abap' 'abapbw' 'abaqus' 'abasic' 'abatement'\n",
      " 'abbaecadfafeefcfcaebb' 'abbaeccbcdfbecdbdbcdeacf'\n",
      " 'abbaefefdaeadbaeecbabc' 'abbbcfeedeacebfdfdcaaeddffba'\n",
      " 'abbbfcdeaeeeeebfbbaacecb' 'abbbfddfbcbbfdbcedbefbdaecfcaa'\n",
      " 'abbcafaacbdeceeffaaecefbfae' 'abbcdcbabdeefaacfacaadb'\n",
      " 'abbdaaaabdaefcecfaabfcaaeefec' 'abbdbacbbcbbeaaeaadaedeefebffcb'\n",
      " 'abbeaafbcfbbbfdefaeedcb' 'abbfabcdfabbacdaaf'\n",
      " 'abbfffcfbbededeedaecccedf' 'abbottsford' 'abbreviate' 'abbreviated'\n",
      " 'abbreviation' 'abc' 'abcaccdcbbafdeaeeacfdfeccddbccfd'\n",
      " 'abcadbafaffbaabadbdfdcadedc' 'abcbcdaabdcbeafacaddeebaddac'\n",
      " 'abcbedeeffffbeaefb' 'abcbefafdadbaefcbdcaefddeacedc'\n",
      " 'abcdbefadcdeafcafacca' 'abcdedcceaecebcbdffabedda'\n",
      " 'abcfbeeccecaeccfedccabb' 'abcorporate' 'abdaaaddeccfdbdcdccdf'\n",
      " 'abdababbffacecaddcaaeedadedbcac' 'abdadebfdebfbdfcafcfcbfd'\n",
      " 'abdbcdbddbadfeecdcdcddc' 'abdbdafbcfbdccbaeeacdeaeded'\n",
      " 'abdbffeacbaaddfdebfef' 'abdcdbdefefcbffeffd'\n",
      " 'abdcfbfabbeaffbbfcdedbfebdcabeb' 'abddabadabbdfcdeeeb'\n",
      " 'abdeadfbabdfbebdccfcceaaf' 'abdebcbbfffbacff'\n",
      " 'abdeebccfebafbcddfaeadedbea' 'abdfcfebeabcfefbcdbdd'\n",
      " 'abdfdaffffbffbaffdeeddbcacbdc' 'abdfecafdceafceebcbaafe' 'abdominal'\n",
      " 'abe' 'abeaaefdfefdadffdad' 'abeaecebcadeeeedeafacae'\n",
      " 'abecbbbaadffccccaaeb' 'abee' 'abeeaebcadafafcbbafaeebeb'\n",
      " 'abeefdbeabcdbffcbaabfedfd' 'abeffbbeeecbfaddfdcbcbcefeefe']\n"
     ]
    }
   ],
   "source": [
    "print(word[100:200])"
   ]
  },
  {
   "cell_type": "code",
   "execution_count": 11,
   "id": "63e60253",
   "metadata": {},
   "outputs": [
    {
     "name": "stdout",
     "output_type": "stream",
     "text": [
      "ﬂexible\n"
     ]
    }
   ],
   "source": [
    "print(word[96705])"
   ]
  },
  {
   "cell_type": "code",
   "execution_count": 12,
   "id": "3267f4d6",
   "metadata": {},
   "outputs": [
    {
     "name": "stdout",
     "output_type": "stream",
     "text": [
      "  (0, 93162)\t0.10898986394280942\n",
      "  (0, 92936)\t0.05886820979124162\n",
      "  (0, 92249)\t0.034081272052155914\n",
      "  (0, 92067)\t0.025369158536223388\n",
      "  (0, 91796)\t0.07896384597101856\n",
      "  (0, 91605)\t0.0435380411587999\n",
      "  (0, 91397)\t0.02017947821746793\n",
      "  (0, 91264)\t0.042367247237503826\n",
      "  (0, 91115)\t0.057533889540402644\n",
      "  (0, 90890)\t0.02506011430624949\n",
      "  (0, 90412)\t0.045608172391399485\n",
      "  (0, 89549)\t0.02933613270870347\n",
      "  (0, 89145)\t0.024253837028028573\n",
      "  (0, 88496)\t0.06707011824429673\n",
      "  (0, 87840)\t0.07225831361522822\n",
      "  (0, 87751)\t0.040864425059877994\n",
      "  (0, 86466)\t0.028164325186763452\n",
      "  (0, 86100)\t0.03304719835514315\n",
      "  (0, 85697)\t0.0315775479037251\n",
      "  (0, 85146)\t0.08518172565891614\n",
      "  (0, 84268)\t0.01873289830279049\n",
      "  (0, 83952)\t0.062075542227526405\n",
      "  (0, 83339)\t0.026124106104560813\n",
      "  (0, 83043)\t0.06356359129063241\n",
      "  (0, 82830)\t0.028499876999591986\n",
      "  :\t:\n",
      "  (0, 13572)\t0.06548109625758328\n",
      "  (0, 12632)\t0.05955462897291756\n",
      "  (0, 11209)\t0.029598300616047922\n",
      "  (0, 10930)\t0.08043469344314644\n",
      "  (0, 10675)\t0.016668524570859666\n",
      "  (0, 10493)\t0.049909215761012496\n",
      "  (0, 10238)\t0.061961184691462036\n",
      "  (0, 9331)\t0.06369845491670867\n",
      "  (0, 9320)\t0.04174389015459161\n",
      "  (0, 9036)\t0.06225534073640698\n",
      "  (0, 8832)\t0.03277339999385182\n",
      "  (0, 8792)\t0.021632169726850822\n",
      "  (0, 8213)\t0.13702724600629337\n",
      "  (0, 7899)\t0.06896847049626355\n",
      "  (0, 7062)\t0.07577097600296459\n",
      "  (0, 6535)\t0.051566714470951944\n",
      "  (0, 6370)\t0.030312992786269474\n",
      "  (0, 6125)\t0.040503211396414426\n",
      "  (0, 5552)\t0.027114825025071086\n",
      "  (0, 4780)\t0.07444009028781241\n",
      "  (0, 3331)\t0.015656196220607183\n",
      "  (0, 3135)\t0.021301434046584796\n",
      "  (0, 2410)\t0.222360843837835\n",
      "  (0, 2315)\t0.0897771663439769\n",
      "  (0, 1807)\t0.07670375662423828\n"
     ]
    }
   ],
   "source": [
    "print(tfidf[0])"
   ]
  },
  {
   "cell_type": "markdown",
   "id": "35160673",
   "metadata": {},
   "source": [
    "# TF-IDF using Hadoop"
   ]
  },
  {
   "cell_type": "code",
   "execution_count": 57,
   "id": "736c5497",
   "metadata": {},
   "outputs": [],
   "source": [
    "text = data.loc[:,['text_process']]\n",
    "text.to_csv('text.txt',sep = '\\t', header = None)"
   ]
  },
  {
   "cell_type": "code",
   "execution_count": 58,
   "id": "15208f76",
   "metadata": {},
   "outputs": [
    {
     "data": {
      "text/html": [
       "<div>\n",
       "<style scoped>\n",
       "    .dataframe tbody tr th:only-of-type {\n",
       "        vertical-align: middle;\n",
       "    }\n",
       "\n",
       "    .dataframe tbody tr th {\n",
       "        vertical-align: top;\n",
       "    }\n",
       "\n",
       "    .dataframe thead th {\n",
       "        text-align: right;\n",
       "    }\n",
       "</style>\n",
       "<table border=\"1\" class=\"dataframe\">\n",
       "  <thead>\n",
       "    <tr style=\"text-align: right;\">\n",
       "      <th></th>\n",
       "      <th>0</th>\n",
       "      <th>1</th>\n",
       "    </tr>\n",
       "  </thead>\n",
       "  <tbody>\n",
       "    <tr>\n",
       "      <th>0</th>\n",
       "      <td>a_10171</td>\n",
       "      <td>1</td>\n",
       "    </tr>\n",
       "    <tr>\n",
       "      <th>1</th>\n",
       "      <td>a_10665</td>\n",
       "      <td>1</td>\n",
       "    </tr>\n",
       "    <tr>\n",
       "      <th>2</th>\n",
       "      <td>a_10676</td>\n",
       "      <td>1</td>\n",
       "    </tr>\n",
       "    <tr>\n",
       "      <th>3</th>\n",
       "      <td>a_10680</td>\n",
       "      <td>1</td>\n",
       "    </tr>\n",
       "    <tr>\n",
       "      <th>4</th>\n",
       "      <td>a_10681</td>\n",
       "      <td>1</td>\n",
       "    </tr>\n",
       "    <tr>\n",
       "      <th>...</th>\n",
       "      <td>...</td>\n",
       "      <td>...</td>\n",
       "    </tr>\n",
       "    <tr>\n",
       "      <th>3113868</th>\n",
       "      <td>ﬁnd_12302</td>\n",
       "      <td>2</td>\n",
       "    </tr>\n",
       "    <tr>\n",
       "      <th>3113869</th>\n",
       "      <td>ﬁnd_14841</td>\n",
       "      <td>2</td>\n",
       "    </tr>\n",
       "    <tr>\n",
       "      <th>3113870</th>\n",
       "      <td>ﬁnd_233</td>\n",
       "      <td>1</td>\n",
       "    </tr>\n",
       "    <tr>\n",
       "      <th>3113871</th>\n",
       "      <td>ﬁnd_2345</td>\n",
       "      <td>1</td>\n",
       "    </tr>\n",
       "    <tr>\n",
       "      <th>3113872</th>\n",
       "      <td>ﬂexible_12723</td>\n",
       "      <td>1</td>\n",
       "    </tr>\n",
       "  </tbody>\n",
       "</table>\n",
       "<p>3113873 rows × 2 columns</p>\n",
       "</div>"
      ],
      "text/plain": [
       "                     0  1\n",
       "0              a_10171  1\n",
       "1              a_10665  1\n",
       "2              a_10676  1\n",
       "3              a_10680  1\n",
       "4              a_10681  1\n",
       "...                ... ..\n",
       "3113868      ﬁnd_12302  2\n",
       "3113869      ﬁnd_14841  2\n",
       "3113870        ﬁnd_233  1\n",
       "3113871       ﬁnd_2345  1\n",
       "3113872  ﬂexible_12723  1\n",
       "\n",
       "[3113873 rows x 2 columns]"
      ]
     },
     "execution_count": 58,
     "metadata": {},
     "output_type": "execute_result"
    }
   ],
   "source": [
    "output1_path = \"TFIDF_Hadoop/output1/part-r-00000\"\n",
    "pd.read_csv(output1_path,sep='\\t',header = None)"
   ]
  },
  {
   "cell_type": "code",
   "execution_count": 59,
   "id": "0794b1f9",
   "metadata": {},
   "outputs": [
    {
     "data": {
      "text/html": [
       "<div>\n",
       "<style scoped>\n",
       "    .dataframe tbody tr th:only-of-type {\n",
       "        vertical-align: middle;\n",
       "    }\n",
       "\n",
       "    .dataframe tbody tr th {\n",
       "        vertical-align: top;\n",
       "    }\n",
       "\n",
       "    .dataframe thead th {\n",
       "        text-align: right;\n",
       "    }\n",
       "</style>\n",
       "<table border=\"1\" class=\"dataframe\">\n",
       "  <thead>\n",
       "    <tr style=\"text-align: right;\">\n",
       "      <th></th>\n",
       "      <th>0</th>\n",
       "      <th>1</th>\n",
       "    </tr>\n",
       "  </thead>\n",
       "  <tbody>\n",
       "    <tr>\n",
       "      <th>0</th>\n",
       "      <td>pr_0</td>\n",
       "      <td>1/256</td>\n",
       "    </tr>\n",
       "    <tr>\n",
       "      <th>1</th>\n",
       "      <td>professional_0</td>\n",
       "      <td>1/256</td>\n",
       "    </tr>\n",
       "    <tr>\n",
       "      <th>2</th>\n",
       "      <td>offer_0</td>\n",
       "      <td>1/256</td>\n",
       "    </tr>\n",
       "    <tr>\n",
       "      <th>3</th>\n",
       "      <td>themcheerful_0</td>\n",
       "      <td>1/256</td>\n",
       "    </tr>\n",
       "    <tr>\n",
       "      <th>4</th>\n",
       "      <td>juggler_0</td>\n",
       "      <td>1/256</td>\n",
       "    </tr>\n",
       "    <tr>\n",
       "      <th>...</th>\n",
       "      <td>...</td>\n",
       "      <td>...</td>\n",
       "    </tr>\n",
       "    <tr>\n",
       "      <th>3113868</th>\n",
       "      <td>independently_9999</td>\n",
       "      <td>2/598</td>\n",
       "    </tr>\n",
       "    <tr>\n",
       "      <th>3113869</th>\n",
       "      <td>growth_9999</td>\n",
       "      <td>1/598</td>\n",
       "    </tr>\n",
       "    <tr>\n",
       "      <th>3113870</th>\n",
       "      <td>pm_9999</td>\n",
       "      <td>2/598</td>\n",
       "    </tr>\n",
       "    <tr>\n",
       "      <th>3113871</th>\n",
       "      <td>apartment_9999</td>\n",
       "      <td>1/598</td>\n",
       "    </tr>\n",
       "    <tr>\n",
       "      <th>3113872</th>\n",
       "      <td>customer_9999</td>\n",
       "      <td>8/598</td>\n",
       "    </tr>\n",
       "  </tbody>\n",
       "</table>\n",
       "<p>3113873 rows × 2 columns</p>\n",
       "</div>"
      ],
      "text/plain": [
       "                          0      1\n",
       "0                      pr_0  1/256\n",
       "1            professional_0  1/256\n",
       "2                   offer_0  1/256\n",
       "3            themcheerful_0  1/256\n",
       "4                 juggler_0  1/256\n",
       "...                     ...    ...\n",
       "3113868  independently_9999  2/598\n",
       "3113869         growth_9999  1/598\n",
       "3113870             pm_9999  2/598\n",
       "3113871      apartment_9999  1/598\n",
       "3113872       customer_9999  8/598\n",
       "\n",
       "[3113873 rows x 2 columns]"
      ]
     },
     "execution_count": 59,
     "metadata": {},
     "output_type": "execute_result"
    }
   ],
   "source": [
    "output2_path = \"TFIDF_Hadoop/output2/part-r-00000\"\n",
    "pd.read_csv(output2_path,sep='\\t',header = None)"
   ]
  },
  {
   "cell_type": "code",
   "execution_count": 61,
   "id": "eccc5e0c",
   "metadata": {},
   "outputs": [
    {
     "data": {
      "text/html": [
       "<div>\n",
       "<style scoped>\n",
       "    .dataframe tbody tr th:only-of-type {\n",
       "        vertical-align: middle;\n",
       "    }\n",
       "\n",
       "    .dataframe tbody tr th {\n",
       "        vertical-align: top;\n",
       "    }\n",
       "\n",
       "    .dataframe thead th {\n",
       "        text-align: right;\n",
       "    }\n",
       "</style>\n",
       "<table border=\"1\" class=\"dataframe\">\n",
       "  <thead>\n",
       "    <tr style=\"text-align: right;\">\n",
       "      <th></th>\n",
       "      <th>0</th>\n",
       "      <th>1</th>\n",
       "    </tr>\n",
       "  </thead>\n",
       "  <tbody>\n",
       "    <tr>\n",
       "      <th>0</th>\n",
       "      <td>a@15381</td>\n",
       "      <td>0.006684</td>\n",
       "    </tr>\n",
       "    <tr>\n",
       "      <th>1</th>\n",
       "      <td>a@5220</td>\n",
       "      <td>0.009767</td>\n",
       "    </tr>\n",
       "    <tr>\n",
       "      <th>2</th>\n",
       "      <td>a@12270</td>\n",
       "      <td>0.006848</td>\n",
       "    </tr>\n",
       "    <tr>\n",
       "      <th>3</th>\n",
       "      <td>a@13242</td>\n",
       "      <td>0.011507</td>\n",
       "    </tr>\n",
       "    <tr>\n",
       "      <th>4</th>\n",
       "      <td>a@10171</td>\n",
       "      <td>0.007099</td>\n",
       "    </tr>\n",
       "    <tr>\n",
       "      <th>...</th>\n",
       "      <td>...</td>\n",
       "      <td>...</td>\n",
       "    </tr>\n",
       "    <tr>\n",
       "      <th>3113868</th>\n",
       "      <td>ﬁnd@233</td>\n",
       "      <td>0.008860</td>\n",
       "    </tr>\n",
       "    <tr>\n",
       "      <th>3113869</th>\n",
       "      <td>ﬁnd@2345</td>\n",
       "      <td>0.007669</td>\n",
       "    </tr>\n",
       "    <tr>\n",
       "      <th>3113870</th>\n",
       "      <td>ﬁnd@14841</td>\n",
       "      <td>0.020800</td>\n",
       "    </tr>\n",
       "    <tr>\n",
       "      <th>3113871</th>\n",
       "      <td>ﬁnd@12302</td>\n",
       "      <td>0.020507</td>\n",
       "    </tr>\n",
       "    <tr>\n",
       "      <th>3113872</th>\n",
       "      <td>ﬂexible@12723</td>\n",
       "      <td>0.013586</td>\n",
       "    </tr>\n",
       "  </tbody>\n",
       "</table>\n",
       "<p>3113873 rows × 2 columns</p>\n",
       "</div>"
      ],
      "text/plain": [
       "                     0         1\n",
       "0              a@15381  0.006684\n",
       "1               a@5220  0.009767\n",
       "2              a@12270  0.006848\n",
       "3              a@13242  0.011507\n",
       "4              a@10171  0.007099\n",
       "...                ...       ...\n",
       "3113868        ﬁnd@233  0.008860\n",
       "3113869       ﬁnd@2345  0.007669\n",
       "3113870      ﬁnd@14841  0.020800\n",
       "3113871      ﬁnd@12302  0.020507\n",
       "3113872  ﬂexible@12723  0.013586\n",
       "\n",
       "[3113873 rows x 2 columns]"
      ]
     },
     "execution_count": 61,
     "metadata": {},
     "output_type": "execute_result"
    }
   ],
   "source": [
    "output3_path = \"TFIDF_Hadoop/output3/part-r-00000\"\n",
    "pd.read_csv(output3_path,sep='\\t',header = None)"
   ]
  },
  {
   "cell_type": "markdown",
   "id": "441a6450",
   "metadata": {},
   "source": [
    "# SVM"
   ]
  },
  {
   "cell_type": "code",
   "execution_count": 41,
   "id": "d211d541",
   "metadata": {},
   "outputs": [],
   "source": [
    "from sklearn import svm\n",
    "from sklearn.metrics import classification_report,confusion_matrix,accuracy_score\n",
    "X_train, X_test, Y_train, Y_test = train_test_split(tfidf, data.fraudulent, test_size = 0.2, random_state = 0)"
   ]
  },
  {
   "cell_type": "code",
   "execution_count": 29,
   "id": "314dddc0",
   "metadata": {},
   "outputs": [
    {
     "data": {
      "text/plain": [
       "SVC()"
      ]
     },
     "execution_count": 29,
     "metadata": {},
     "output_type": "execute_result"
    }
   ],
   "source": [
    "start = process_time()\n",
    "clf = svm.SVC()\n",
    "clf.fit(X_train,Y_train)"
   ]
  },
  {
   "cell_type": "code",
   "execution_count": 31,
   "id": "6a9131ac",
   "metadata": {},
   "outputs": [
    {
     "data": {
      "text/plain": [
       "0.9854586129753915"
      ]
     },
     "execution_count": 31,
     "metadata": {},
     "output_type": "execute_result"
    }
   ],
   "source": [
    "Y_predict = clf.predict(X_test)\n",
    "accuracy_score(Y_test, Y_predict)"
   ]
  },
  {
   "cell_type": "code",
   "execution_count": 33,
   "id": "e2cea877",
   "metadata": {},
   "outputs": [
    {
     "name": "stdout",
     "output_type": "stream",
     "text": [
      "              precision    recall  f1-score   support\n",
      "\n",
      "           0       0.99      1.00      0.99      3423\n",
      "           1       0.97      0.68      0.80       153\n",
      "\n",
      "    accuracy                           0.99      3576\n",
      "   macro avg       0.98      0.84      0.90      3576\n",
      "weighted avg       0.99      0.99      0.98      3576\n",
      "\n"
     ]
    }
   ],
   "source": [
    "print(classification_report(Y_test,Y_predict,target_names = ['0','1']))"
   ]
  },
  {
   "cell_type": "markdown",
   "id": "bea392ba",
   "metadata": {},
   "source": [
    "# PSVM"
   ]
  }
 ],
 "metadata": {
  "kernelspec": {
   "display_name": "Python 3 (ipykernel)",
   "language": "python",
   "name": "python3"
  },
  "language_info": {
   "codemirror_mode": {
    "name": "ipython",
    "version": 3
   },
   "file_extension": ".py",
   "mimetype": "text/x-python",
   "name": "python",
   "nbconvert_exporter": "python",
   "pygments_lexer": "ipython3",
   "version": "3.8.12"
  }
 },
 "nbformat": 4,
 "nbformat_minor": 5
}
